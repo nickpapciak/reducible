{
 "cells": [
  {
   "cell_type": "code",
   "execution_count": 146,
   "id": "29b389dc",
   "metadata": {},
   "outputs": [
    {
     "name": "stdout",
     "output_type": "stream",
     "text": [
      "Epoch 1/15\n",
      "1875/1875 [==============================] - 2s 991us/step - loss: 0.2440 - accuracy: 0.9273\n",
      "Epoch 2/15\n",
      "1875/1875 [==============================] - 2s 914us/step - loss: 0.1057 - accuracy: 0.9674\n",
      "Epoch 3/15\n",
      "1875/1875 [==============================] - 2s 921us/step - loss: 0.0774 - accuracy: 0.9762\n",
      "Epoch 4/15\n",
      "1875/1875 [==============================] - 2s 863us/step - loss: 0.0603 - accuracy: 0.9813\n",
      "Epoch 5/15\n",
      "1875/1875 [==============================] - 2s 854us/step - loss: 0.0511 - accuracy: 0.9840\n",
      "Epoch 6/15\n",
      "1875/1875 [==============================] - 2s 893us/step - loss: 0.0425 - accuracy: 0.9863\n",
      "Epoch 7/15\n",
      "1875/1875 [==============================] - 2s 954us/step - loss: 0.0370 - accuracy: 0.9884\n",
      "Epoch 8/15\n",
      "1875/1875 [==============================] - 2s 946us/step - loss: 0.0313 - accuracy: 0.9897\n",
      "Epoch 9/15\n",
      "1875/1875 [==============================] - 2s 889us/step - loss: 0.0284 - accuracy: 0.9911\n",
      "Epoch 10/15\n",
      "1875/1875 [==============================] - 2s 862us/step - loss: 0.0266 - accuracy: 0.9912\n",
      "Epoch 11/15\n",
      "1875/1875 [==============================] - 2s 836us/step - loss: 0.0235 - accuracy: 0.9927\n",
      "Epoch 12/15\n",
      "1875/1875 [==============================] - 2s 868us/step - loss: 0.0202 - accuracy: 0.9938\n",
      "Epoch 13/15\n",
      "1875/1875 [==============================] - 2s 842us/step - loss: 0.0192 - accuracy: 0.9941\n",
      "Epoch 14/15\n",
      "1875/1875 [==============================] - 2s 836us/step - loss: 0.0200 - accuracy: 0.9938\n",
      "Epoch 15/15\n",
      "1875/1875 [==============================] - 2s 838us/step - loss: 0.0177 - accuracy: 0.9948\n"
     ]
    },
    {
     "data": {
      "text/plain": [
       "<keras.src.callbacks.History at 0x117846350>"
      ]
     },
     "execution_count": 146,
     "metadata": {},
     "output_type": "execute_result"
    }
   ],
   "source": [
    "import sklearn\n",
    "import tensorflow as tf\n",
    "from tensorflow import keras\n",
    "import numpy as np\n",
    "\n",
    "mnist = tf.keras.datasets.mnist\n",
    "layer_amt = 3\n",
    "\n",
    "(x_train, y_train), (x_test, y_test) = mnist.load_data()\n",
    "x_train, x_test = x_train / 255.0, x_test / 255.0\n",
    "\n",
    "base_model = tf.keras.models.Sequential()\n",
    "base_model.add(tf.keras.layers.Flatten(input_shape=(28, 28)))\n",
    "\n",
    "for x in range(layer_amt): \n",
    "    base_model.add(tf.keras.layers.Dense(128, activation='relu'))\n",
    "\n",
    "base_model.add(tf.keras.layers.Dropout(0.2))\n",
    "base_model.add(tf.keras.layers.Dense(10))\n",
    "\n",
    "\n",
    "base_model.compile(optimizer='adam',\n",
    "              loss=tf.keras.losses.SparseCategoricalCrossentropy(from_logits=True),\n",
    "              metrics=['accuracy'])\n",
    "base_model.fit(x_train, y_train, epochs=15)"
   ]
  },
  {
   "cell_type": "code",
   "execution_count": 147,
   "id": "a3210c44",
   "metadata": {},
   "outputs": [
    {
     "name": "stdout",
     "output_type": "stream",
     "text": [
      "313/313 - 0s - loss: 0.1082 - accuracy: 0.9808 - 156ms/epoch - 498us/step\n"
     ]
    },
    {
     "data": {
      "text/plain": [
       "[0.10823148488998413, 0.9807999730110168]"
      ]
     },
     "execution_count": 147,
     "metadata": {},
     "output_type": "execute_result"
    }
   ],
   "source": [
    "base_model.evaluate(x_test,  y_test, verbose=2)"
   ]
  },
  {
   "cell_type": "code",
   "execution_count": 148,
   "id": "9cb6894e",
   "metadata": {},
   "outputs": [],
   "source": [
    "base_model.save('base_model.keras')"
   ]
  },
  {
   "cell_type": "code",
   "execution_count": 149,
   "id": "52612778",
   "metadata": {},
   "outputs": [],
   "source": [
    "numpy_array = np.random.rand(300,1000)\n",
    "np.save(\"array.npy\", numpy_array)"
   ]
  },
  {
   "cell_type": "code",
   "execution_count": 150,
   "id": "2aa57077",
   "metadata": {},
   "outputs": [
    {
     "ename": "NameError",
     "evalue": "name 'merge_files' is not defined",
     "output_type": "error",
     "traceback": [
      "\u001b[0;31m---------------------------------------------------------------------------\u001b[0m",
      "\u001b[0;31mNameError\u001b[0m                                 Traceback (most recent call last)",
      "Cell \u001b[0;32mIn[150], line 2\u001b[0m\n\u001b[1;32m      1\u001b[0m \u001b[38;5;66;03m# what we need\u001b[39;00m\n\u001b[0;32m----> 2\u001b[0m merge_files(\u001b[38;5;124m'\u001b[39m\u001b[38;5;124mbase_model.keras\u001b[39m\u001b[38;5;124m'\u001b[39m, \u001b[38;5;124m\"\u001b[39m\u001b[38;5;124marray.npy\u001b[39m\u001b[38;5;124m\"\u001b[39m, destination\u001b[38;5;241m=\u001b[39m\u001b[38;5;124m\"\u001b[39m\u001b[38;5;124mblahblah.gyatt\u001b[39m\u001b[38;5;124m\"\u001b[39m)\n\u001b[1;32m      4\u001b[0m \u001b[38;5;66;03m# custom file type \"blahblah.optimized\"\u001b[39;00m\n\u001b[1;32m      5\u001b[0m \u001b[38;5;28;01mwith\u001b[39;00m \u001b[38;5;28mopen\u001b[39m(\u001b[38;5;124m\"\u001b[39m\u001b[38;5;124mblahblah.gyatt\u001b[39m\u001b[38;5;124m\"\u001b[39m) \u001b[38;5;28;01mas\u001b[39;00m f: \n",
      "\u001b[0;31mNameError\u001b[0m: name 'merge_files' is not defined"
     ]
    }
   ],
   "source": [
    "# what we need\n",
    "merge_files('base_model.keras', \"array.npy\", destination=\"blahblah.gyatt\")\n",
    "\n",
    "# custom file type \"blahblah.optimized\"\n",
    "with open(\"blahblah.gyatt\") as f: \n",
    "    base_model, numpy_array = unmerge_files(\"blahblah.gyatt\")"
   ]
  },
  {
   "cell_type": "code",
   "execution_count": 152,
   "id": "b49166dc",
   "metadata": {},
   "outputs": [],
   "source": [
    "import struct\n",
    "import io\n",
    "import os\n",
    "\n",
    "def merge_binary_files(file_a, file_b, file_c):\n",
    "    with open(file_a, 'rb') as fa, open(file_b, 'rb') as fb:\n",
    "        content_a = fa.read()\n",
    "        content_b = fb.read()\n",
    "        \n",
    "    # two integer representation \n",
    "    metadata = struct.pack('QQ', len(content_a), len(content_b))\n",
    "\n",
    "    # Write metadata \n",
    "    with open(file_c, 'wb') as fc:\n",
    "        fc.write(metadata)\n",
    "        fc.write(content_a)\n",
    "        fc.write(content_b)\n",
    "    return file_c\n",
    "\n",
    "def unmerge_binary_file(merged_file):\n",
    "    if merged_file.split(\".\")[-1] != \"gyatt\":\n",
    "        raise FileNotFoundError(\"No gyatt file was found.\")\n",
    "    # other directory issues are caught by open method.\n",
    "    \n",
    "    output_file_a, output_file_b = \"eDJwQf1RYLU5e.keras\", \"t2XVNhtPV93Z3P2.npy\"\n",
    "    with open(merged_file, 'rb') as f:\n",
    "        metadata = f.read(struct.calcsize('QQ'))\n",
    "        size_a, size_b = struct.unpack('QQ', metadata)\n",
    "        content = f.read()\n",
    "        content_a = content[:size_a]\n",
    "        content_b = content[size_a:]\n",
    "    with open(output_file_a, 'wb') as fa, open(output_file_b, 'wb') as fb:\n",
    "        fa.write(content_a)\n",
    "        fb.write(content_b)\n",
    "    model_ = tf.keras.models.load_model(output_file_a)\n",
    "    array_ = np.load(output_file_b)\n",
    "    os.remove(output_file_a)\n",
    "    os.remove(output_file_b)\n",
    "    return model_, array_\n",
    "    \n",
    "# Example usage\n",
    "merge_binary_files('base_model.keras', 'array.npy', 'merged_file.gyatt')\n",
    "comp_model, comp_array = unmerge_binary_file('merged_file.gyatt')"
   ]
  },
  {
   "cell_type": "code",
   "execution_count": 153,
   "id": "0895d0bf",
   "metadata": {},
   "outputs": [
    {
     "name": "stdout",
     "output_type": "stream",
     "text": [
      "[[8.20060499e-01 4.43935612e-02 5.00854690e-01 ... 7.57558948e-01\n",
      "  3.13012814e-01 3.58139973e-01]\n",
      " [2.49778293e-01 6.72454567e-01 5.01881947e-01 ... 6.01865009e-03\n",
      "  9.33227946e-01 5.02844255e-01]\n",
      " [1.54757818e-01 1.57532647e-01 5.00085632e-01 ... 7.34719885e-01\n",
      "  6.92936300e-01 5.50217773e-01]\n",
      " ...\n",
      " [4.93852399e-01 7.52928746e-01 3.20060055e-01 ... 8.21144909e-01\n",
      "  5.49495759e-01 5.20119120e-02]\n",
      " [2.53306905e-01 5.51142724e-01 6.30090485e-01 ... 1.57219098e-04\n",
      "  7.96720529e-01 5.82896234e-01]\n",
      " [9.54377511e-01 5.35046457e-01 9.28493503e-01 ... 1.49718752e-01\n",
      "  4.57464895e-02 4.36774353e-01]]\n",
      "[[8.20060499e-01 4.43935612e-02 5.00854690e-01 ... 7.57558948e-01\n",
      "  3.13012814e-01 3.58139973e-01]\n",
      " [2.49778293e-01 6.72454567e-01 5.01881947e-01 ... 6.01865009e-03\n",
      "  9.33227946e-01 5.02844255e-01]\n",
      " [1.54757818e-01 1.57532647e-01 5.00085632e-01 ... 7.34719885e-01\n",
      "  6.92936300e-01 5.50217773e-01]\n",
      " ...\n",
      " [4.93852399e-01 7.52928746e-01 3.20060055e-01 ... 8.21144909e-01\n",
      "  5.49495759e-01 5.20119120e-02]\n",
      " [2.53306905e-01 5.51142724e-01 6.30090485e-01 ... 1.57219098e-04\n",
      "  7.96720529e-01 5.82896234e-01]\n",
      " [9.54377511e-01 5.35046457e-01 9.28493503e-01 ... 1.49718752e-01\n",
      "  4.57464895e-02 4.36774353e-01]]\n"
     ]
    }
   ],
   "source": [
    "print(comp_array)\n",
    "print(numpy_array)"
   ]
  },
  {
   "cell_type": "code",
   "execution_count": 154,
   "id": "fcc1dc73",
   "metadata": {},
   "outputs": [
    {
     "name": "stdout",
     "output_type": "stream",
     "text": [
      "(300, 1000)\n"
     ]
    },
    {
     "data": {
      "text/plain": [
       "True"
      ]
     },
     "execution_count": 154,
     "metadata": {},
     "output_type": "execute_result"
    }
   ],
   "source": [
    "print(comp_array.shape)\n",
    "np.array_equal(comp_array, numpy_array)"
   ]
  },
  {
   "cell_type": "code",
   "execution_count": 155,
   "id": "7d8c2f95",
   "metadata": {},
   "outputs": [
    {
     "name": "stdout",
     "output_type": "stream",
     "text": [
      "313/313 - 0s - loss: 0.1082 - accuracy: 0.9808 - 170ms/epoch - 542us/step\n"
     ]
    },
    {
     "data": {
      "text/plain": [
       "[0.10823148488998413, 0.9807999730110168]"
      ]
     },
     "execution_count": 155,
     "metadata": {},
     "output_type": "execute_result"
    }
   ],
   "source": [
    "comp_model.evaluate(x_test,  y_test, verbose=2)"
   ]
  },
  {
   "cell_type": "code",
   "execution_count": 156,
   "id": "5d1d3304",
   "metadata": {},
   "outputs": [
    {
     "name": "stdout",
     "output_type": "stream",
     "text": [
      "313/313 - 0s - loss: 0.1082 - accuracy: 0.9808 - 121ms/epoch - 388us/step\n"
     ]
    },
    {
     "data": {
      "text/plain": [
       "[0.10823148488998413, 0.9807999730110168]"
      ]
     },
     "execution_count": 156,
     "metadata": {},
     "output_type": "execute_result"
    }
   ],
   "source": [
    "base_model.evaluate(x_test,  y_test, verbose=2)"
   ]
  },
  {
   "cell_type": "code",
   "execution_count": 141,
   "id": "2edab5ee",
   "metadata": {},
   "outputs": [
    {
     "data": {
      "text/plain": [
       "False"
      ]
     },
     "execution_count": 141,
     "metadata": {},
     "output_type": "execute_result"
    }
   ],
   "source": []
  },
  {
   "cell_type": "code",
   "execution_count": 119,
   "id": "5a457499",
   "metadata": {},
   "outputs": [
    {
     "data": {
      "text/plain": [
       "False"
      ]
     },
     "execution_count": 119,
     "metadata": {},
     "output_type": "execute_result"
    }
   ],
   "source": []
  },
  {
   "cell_type": "code",
   "execution_count": 120,
   "id": "ef9ea9c8",
   "metadata": {},
   "outputs": [
    {
     "data": {
      "text/plain": [
       "False"
      ]
     },
     "execution_count": 120,
     "metadata": {},
     "output_type": "execute_result"
    }
   ],
   "source": []
  },
  {
   "cell_type": "code",
   "execution_count": null,
   "id": "9def6909",
   "metadata": {},
   "outputs": [],
   "source": []
  }
 ],
 "metadata": {
  "kernelspec": {
   "display_name": "Python 3 (ipykernel)",
   "language": "python",
   "name": "python3"
  },
  "language_info": {
   "codemirror_mode": {
    "name": "ipython",
    "version": 3
   },
   "file_extension": ".py",
   "mimetype": "text/x-python",
   "name": "python",
   "nbconvert_exporter": "python",
   "pygments_lexer": "ipython3",
   "version": "3.11.4"
  }
 },
 "nbformat": 4,
 "nbformat_minor": 5
}
