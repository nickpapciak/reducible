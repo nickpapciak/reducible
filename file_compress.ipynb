{
 "cells": [
  {
   "cell_type": "code",
   "execution_count": 60,
   "id": "29b389dc",
   "metadata": {},
   "outputs": [
    {
     "name": "stdout",
     "output_type": "stream",
     "text": [
      "Epoch 1/15\n",
      "1875/1875 [==============================] - 2s 852us/step - loss: 0.2422 - accuracy: 0.9273\n",
      "Epoch 2/15\n",
      "1875/1875 [==============================] - 1s 795us/step - loss: 0.1037 - accuracy: 0.9698\n",
      "Epoch 3/15\n",
      "1875/1875 [==============================] - 1s 787us/step - loss: 0.0773 - accuracy: 0.9769\n",
      "Epoch 4/15\n",
      "1875/1875 [==============================] - 2s 804us/step - loss: 0.0584 - accuracy: 0.9821\n",
      "Epoch 5/15\n",
      "1875/1875 [==============================] - 2s 819us/step - loss: 0.0485 - accuracy: 0.9848\n",
      "Epoch 6/15\n",
      "1875/1875 [==============================] - 2s 821us/step - loss: 0.0417 - accuracy: 0.9869\n",
      "Epoch 7/15\n",
      "1875/1875 [==============================] - 2s 800us/step - loss: 0.0359 - accuracy: 0.9888\n",
      "Epoch 8/15\n",
      "1875/1875 [==============================] - 2s 818us/step - loss: 0.0313 - accuracy: 0.9900\n",
      "Epoch 9/15\n",
      "1875/1875 [==============================] - 2s 844us/step - loss: 0.0261 - accuracy: 0.9918\n",
      "Epoch 10/15\n",
      "1875/1875 [==============================] - 2s 821us/step - loss: 0.0259 - accuracy: 0.9920\n",
      "Epoch 11/15\n",
      "1875/1875 [==============================] - 2s 849us/step - loss: 0.0220 - accuracy: 0.9933\n",
      "Epoch 12/15\n",
      "1875/1875 [==============================] - 1s 795us/step - loss: 0.0220 - accuracy: 0.9929\n",
      "Epoch 13/15\n",
      "1875/1875 [==============================] - 1s 790us/step - loss: 0.0198 - accuracy: 0.9937\n",
      "Epoch 14/15\n",
      "1875/1875 [==============================] - 2s 812us/step - loss: 0.0185 - accuracy: 0.9939\n",
      "Epoch 15/15\n",
      "1875/1875 [==============================] - 2s 807us/step - loss: 0.0184 - accuracy: 0.9943\n"
     ]
    },
    {
     "data": {
      "text/plain": [
       "<keras.src.callbacks.History at 0x114543f90>"
      ]
     },
     "execution_count": 60,
     "metadata": {},
     "output_type": "execute_result"
    }
   ],
   "source": [
    "import sklearn\n",
    "import tensorflow as tf\n",
    "from tensorflow import keras\n",
    "import numpy as np\n",
    "\n",
    "mnist = tf.keras.datasets.mnist\n",
    "layer_amt = 3\n",
    "\n",
    "(x_train, y_train), (x_test, y_test) = mnist.load_data()\n",
    "x_train, x_test = x_train / 255.0, x_test / 255.0\n",
    "\n",
    "base_model = tf.keras.models.Sequential()\n",
    "base_model.add(tf.keras.layers.Flatten(input_shape=(28, 28)))\n",
    "\n",
    "for x in range(layer_amt): \n",
    "    base_model.add(tf.keras.layers.Dense(128, activation='relu'))\n",
    "\n",
    "base_model.add(tf.keras.layers.Dropout(0.2))\n",
    "base_model.add(tf.keras.layers.Dense(10))\n",
    "\n",
    "\n",
    "base_model.compile(optimizer='adam',\n",
    "              loss=tf.keras.losses.SparseCategoricalCrossentropy(from_logits=True),\n",
    "              metrics=['accuracy'])\n",
    "base_model.fit(x_train, y_train, epochs=15)"
   ]
  },
  {
   "cell_type": "code",
   "execution_count": 61,
   "id": "a3210c44",
   "metadata": {},
   "outputs": [
    {
     "name": "stdout",
     "output_type": "stream",
     "text": [
      "313/313 - 0s - loss: 0.1117 - accuracy: 0.9778 - 140ms/epoch - 448us/step\n"
     ]
    },
    {
     "data": {
      "text/plain": [
       "[0.11166907101869583, 0.9778000116348267]"
      ]
     },
     "execution_count": 61,
     "metadata": {},
     "output_type": "execute_result"
    }
   ],
   "source": [
    "base_model.evaluate(x_test,  y_test, verbose=2)"
   ]
  },
  {
   "cell_type": "code",
   "execution_count": 62,
   "id": "9cb6894e",
   "metadata": {},
   "outputs": [],
   "source": [
    "base_model.save('base_model.keras')"
   ]
  },
  {
   "cell_type": "code",
   "execution_count": 63,
   "id": "52612778",
   "metadata": {},
   "outputs": [],
   "source": [
    "numpy_array = np.random.rand(300,1000)\n",
    "np.save(\"array.npy\", numpy_array)"
   ]
  },
  {
   "cell_type": "code",
   "execution_count": 64,
   "id": "2aa57077",
   "metadata": {},
   "outputs": [
    {
     "ename": "NameError",
     "evalue": "name 'merge_files' is not defined",
     "output_type": "error",
     "traceback": [
      "\u001b[0;31m---------------------------------------------------------------------------\u001b[0m",
      "\u001b[0;31mNameError\u001b[0m                                 Traceback (most recent call last)",
      "Cell \u001b[0;32mIn[64], line 2\u001b[0m\n\u001b[1;32m      1\u001b[0m \u001b[38;5;66;03m# what we need\u001b[39;00m\n\u001b[0;32m----> 2\u001b[0m merge_files(\u001b[38;5;124m'\u001b[39m\u001b[38;5;124mbase_model.keras\u001b[39m\u001b[38;5;124m'\u001b[39m, \u001b[38;5;124m\"\u001b[39m\u001b[38;5;124marray.npy\u001b[39m\u001b[38;5;124m\"\u001b[39m, destination\u001b[38;5;241m=\u001b[39m\u001b[38;5;124m\"\u001b[39m\u001b[38;5;124mblahblah.optimized\u001b[39m\u001b[38;5;124m\"\u001b[39m)\n\u001b[1;32m      4\u001b[0m \u001b[38;5;66;03m# custom file type \"blahblah.optimized\"\u001b[39;00m\n\u001b[1;32m      5\u001b[0m \u001b[38;5;28;01mwith\u001b[39;00m \u001b[38;5;28mopen\u001b[39m(\u001b[38;5;124m\"\u001b[39m\u001b[38;5;124mblahblah.optimized\u001b[39m\u001b[38;5;124m\"\u001b[39m) \u001b[38;5;28;01mas\u001b[39;00m f: \n",
      "\u001b[0;31mNameError\u001b[0m: name 'merge_files' is not defined"
     ]
    }
   ],
   "source": [
    "# what we need\n",
    "merge_files('base_model.keras', \"array.npy\", destination=\"blahblah.optimized\")\n",
    "\n",
    "# custom file type \"blahblah.optimized\"\n",
    "with open(\"blahblah.optimized\") as f: \n",
    "    base_model, numpy_array = unmerge_files(\"blahblah.optimized\")"
   ]
  },
  {
   "cell_type": "code",
   "execution_count": 65,
   "id": "b49166dc",
   "metadata": {},
   "outputs": [],
   "source": [
    "import struct\n",
    "import io\n",
    "\n",
    "def merge_binary_files(file_a, file_b, file_c):\n",
    "    with open(file_a, 'rb') as fa, open(file_b, 'rb') as fb:\n",
    "        content_a = fa.read()\n",
    "        content_b = fb.read()\n",
    "        \n",
    "    # two integer representation \n",
    "    metadata = struct.pack('QQ', len(content_a), len(content_b))\n",
    "\n",
    "    # Write metadata \n",
    "    with open(file_c, 'wb') as fc:\n",
    "        fc.write(metadata)\n",
    "        fc.write(content_a)\n",
    "        fc.write(content_b)\n",
    "    return file_c\n",
    "\n",
    "def unmerge_binary_file(merged_file, output_file_a, output_file_b):\n",
    "    with open(merged_file, 'rb') as f:\n",
    "        metadata = f.read(struct.calcsize('QQ'))\n",
    "        size_a, size_b = struct.unpack('QQ', metadata)\n",
    "        content = f.read()\n",
    "        content_a = content[:size_a]\n",
    "        content_b = content[size_a:]\n",
    "    with open(output_file_a, 'wb') as fa, open(output_file_b, 'wb') as fb:\n",
    "        fa.write(content_a)\n",
    "        fb.write(content_b)\n",
    "    return tf.keras.models.load_model(output_file_a), np.load(output_file_b)\n",
    "# Example usage\n",
    "merge_binary_files('base_model.keras', 'array.npy', 'merged_file.optimized')\n",
    "comp_model, comp_array = unmerge_binary_file('merged_file.optimized', 'base_model_res.keras', 'array_res.npy')"
   ]
  },
  {
   "cell_type": "code",
   "execution_count": null,
   "id": "0895d0bf",
   "metadata": {},
   "outputs": [],
   "source": []
  },
  {
   "cell_type": "code",
   "execution_count": 71,
   "id": "fcc1dc73",
   "metadata": {},
   "outputs": [
    {
     "data": {
      "text/plain": [
       "(300, 1000)"
      ]
     },
     "execution_count": 71,
     "metadata": {},
     "output_type": "execute_result"
    }
   ],
   "source": [
    "comp_array.shape\n"
   ]
  },
  {
   "cell_type": "code",
   "execution_count": 67,
   "id": "7d8c2f95",
   "metadata": {},
   "outputs": [
    {
     "name": "stdout",
     "output_type": "stream",
     "text": [
      "313/313 - 0s - loss: 0.1117 - accuracy: 0.9778 - 186ms/epoch - 593us/step\n"
     ]
    },
    {
     "data": {
      "text/plain": [
       "[0.11166907101869583, 0.9778000116348267]"
      ]
     },
     "execution_count": 67,
     "metadata": {},
     "output_type": "execute_result"
    }
   ],
   "source": [
    "comp_model.evaluate(x_test,  y_test, verbose=2)"
   ]
  },
  {
   "cell_type": "code",
   "execution_count": 68,
   "id": "2edab5ee",
   "metadata": {},
   "outputs": [
    {
     "data": {
      "text/plain": [
       "True"
      ]
     },
     "execution_count": 68,
     "metadata": {},
     "output_type": "execute_result"
    }
   ],
   "source": [
    "import filecmp\n",
    "filecmp.cmp(\"base_model_res.keras\", \"base_model.keras\")"
   ]
  },
  {
   "cell_type": "code",
   "execution_count": 69,
   "id": "5a457499",
   "metadata": {},
   "outputs": [
    {
     "data": {
      "text/plain": [
       "True"
      ]
     },
     "execution_count": 69,
     "metadata": {},
     "output_type": "execute_result"
    }
   ],
   "source": [
    "filecmp.cmp(\"array.npy\", \"array_res.npy\")"
   ]
  },
  {
   "cell_type": "code",
   "execution_count": 70,
   "id": "ef9ea9c8",
   "metadata": {},
   "outputs": [
    {
     "data": {
      "text/plain": [
       "False"
      ]
     },
     "execution_count": 70,
     "metadata": {},
     "output_type": "execute_result"
    }
   ],
   "source": [
    "filecmp.cmp(\"base_model_res.keras\", \"array_res.npy\")"
   ]
  },
  {
   "cell_type": "code",
   "execution_count": null,
   "id": "9def6909",
   "metadata": {},
   "outputs": [],
   "source": []
  }
 ],
 "metadata": {
  "kernelspec": {
   "display_name": "Python 3 (ipykernel)",
   "language": "python",
   "name": "python3"
  },
  "language_info": {
   "codemirror_mode": {
    "name": "ipython",
    "version": 3
   },
   "file_extension": ".py",
   "mimetype": "text/x-python",
   "name": "python",
   "nbconvert_exporter": "python",
   "pygments_lexer": "ipython3",
   "version": "3.11.4"
  }
 },
 "nbformat": 4,
 "nbformat_minor": 5
}
