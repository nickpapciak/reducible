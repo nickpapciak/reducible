{
 "cells": [
  {
   "cell_type": "code",
   "execution_count": 2,
   "id": "f16a9282",
   "metadata": {},
   "outputs": [
    {
     "name": "stdout",
     "output_type": "stream",
     "text": [
      "Epoch 1/15\n",
      "1875/1875 [==============================] - 2s 1ms/step - loss: 0.2475 - accuracy: 0.9250\n",
      "Epoch 2/15\n",
      "1875/1875 [==============================] - 2s 992us/step - loss: 0.1090 - accuracy: 0.9676\n",
      "Epoch 3/15\n",
      "1875/1875 [==============================] - 2s 990us/step - loss: 0.0789 - accuracy: 0.9759\n",
      "Epoch 4/15\n",
      "1875/1875 [==============================] - 2s 993us/step - loss: 0.0625 - accuracy: 0.9807\n",
      "Epoch 5/15\n",
      "1875/1875 [==============================] - 2s 980us/step - loss: 0.0508 - accuracy: 0.9837\n",
      "Epoch 6/15\n",
      "1875/1875 [==============================] - 2s 1ms/step - loss: 0.0425 - accuracy: 0.9865\n",
      "Epoch 7/15\n",
      "1875/1875 [==============================] - 2s 999us/step - loss: 0.0386 - accuracy: 0.9880\n",
      "Epoch 8/15\n",
      "1875/1875 [==============================] - 2s 999us/step - loss: 0.0312 - accuracy: 0.9898\n",
      "Epoch 9/15\n",
      "1875/1875 [==============================] - 2s 1ms/step - loss: 0.0289 - accuracy: 0.9912\n",
      "Epoch 10/15\n",
      "1875/1875 [==============================] - 2s 993us/step - loss: 0.0272 - accuracy: 0.9921\n",
      "Epoch 11/15\n",
      "1875/1875 [==============================] - 2s 986us/step - loss: 0.0247 - accuracy: 0.9921\n",
      "Epoch 12/15\n",
      "1875/1875 [==============================] - 2s 985us/step - loss: 0.0203 - accuracy: 0.9935\n",
      "Epoch 13/15\n",
      "1875/1875 [==============================] - 2s 990us/step - loss: 0.0238 - accuracy: 0.9923\n",
      "Epoch 14/15\n",
      "1875/1875 [==============================] - 2s 984us/step - loss: 0.0190 - accuracy: 0.9939\n",
      "Epoch 15/15\n",
      "1875/1875 [==============================] - 2s 1ms/step - loss: 0.0193 - accuracy: 0.9937\n"
     ]
    },
    {
     "data": {
      "text/plain": [
       "<keras.src.callbacks.History at 0x29c9ffb80>"
      ]
     },
     "execution_count": 2,
     "metadata": {},
     "output_type": "execute_result"
    }
   ],
   "source": [
    "import sklearn\n",
    "import tensorflow as tf\n",
    "from tensorflow import keras\n",
    "import numpy as np\n",
    "\n",
    "mnist = tf.keras.datasets.mnist\n",
    "layer_amt = 3\n",
    "\n",
    "(x_train, y_train), (x_test, y_test) = mnist.load_data()\n",
    "x_train, x_test = x_train / 255.0, x_test / 255.0\n",
    "\n",
    "base_model = tf.keras.models.Sequential()\n",
    "base_model.add(tf.keras.layers.Flatten(input_shape=(28, 28)))\n",
    "\n",
    "for x in range(layer_amt): \n",
    "    base_model.add(tf.keras.layers.Dense(128, activation='relu'))\n",
    "\n",
    "base_model.add(tf.keras.layers.Dropout(0.2))\n",
    "base_model.add(tf.keras.layers.Dense(10))\n",
    "\n",
    "\n",
    "base_model.compile(optimizer='adam',\n",
    "              loss=tf.keras.losses.SparseCategoricalCrossentropy(from_logits=True),\n",
    "              metrics=['accuracy'])\n",
    "base_model.fit(x_train, y_train, epochs=15)"
   ]
  },
  {
   "cell_type": "code",
   "execution_count": 3,
   "id": "23ca6838",
   "metadata": {},
   "outputs": [
    {
     "name": "stdout",
     "output_type": "stream",
     "text": [
      "313/313 - 0s - loss: 0.1183 - accuracy: 0.9776 - 213ms/epoch - 680us/step\n"
     ]
    },
    {
     "data": {
      "text/plain": [
       "[0.11834590882062912, 0.9775999784469604]"
      ]
     },
     "execution_count": 3,
     "metadata": {},
     "output_type": "execute_result"
    }
   ],
   "source": [
    "base_model.evaluate(x_test,  y_test, verbose=2)"
   ]
  },
  {
   "cell_type": "code",
   "execution_count": 4,
   "id": "ffd62ad0",
   "metadata": {},
   "outputs": [],
   "source": [
    "from reducible.rank_approximation import RankKApprox\n",
    "\n",
    "optimized_model = tf.keras.models.Sequential()\n",
    "optimized_model.add(tf.keras.layers.Flatten(input_shape=(28, 28)))\n",
    "\n",
    "weights = base_model.get_weights()\n",
    "\n",
    "ks = [40, 18, 21]\n",
    "for x in range(layer_amt): \n",
    "    optimized_model.add(RankKApprox(base_model.layers[x+1], ks[x], activation='relu'))\n",
    "    \n",
    "optimized_model.add(tf.keras.layers.Dropout(0.2))\n",
    "optimized_model.add(RankKApprox(base_model.layers[5], k = 10, activation='relu'))\n",
    "\n",
    "optimized_model.compile(optimizer='adam',\n",
    "              loss=tf.keras.losses.SparseCategoricalCrossentropy(from_logits=True),\n",
    "              metrics=['accuracy'])"
   ]
  },
  {
   "cell_type": "code",
   "execution_count": 5,
   "id": "0720d296",
   "metadata": {},
   "outputs": [
    {
     "name": "stdout",
     "output_type": "stream",
     "text": [
      "313/313 - 0s - loss: 0.1700 - accuracy: 0.9654 - 260ms/epoch - 830us/step\n"
     ]
    },
    {
     "data": {
      "text/plain": [
       "[0.17000733315944672, 0.965399980545044]"
      ]
     },
     "execution_count": 5,
     "metadata": {},
     "output_type": "execute_result"
    }
   ],
   "source": [
    "optimized_model.evaluate(x_test,  y_test, verbose=2)"
   ]
  },
  {
   "cell_type": "code",
   "execution_count": null,
   "id": "bac09cdb",
   "metadata": {},
   "outputs": [],
   "source": []
  }
 ],
 "metadata": {
  "kernelspec": {
   "display_name": "Python 3 (ipykernel)",
   "language": "python",
   "name": "python3"
  },
  "language_info": {
   "codemirror_mode": {
    "name": "ipython",
    "version": 3
   },
   "file_extension": ".py",
   "mimetype": "text/x-python",
   "name": "python",
   "nbconvert_exporter": "python",
   "pygments_lexer": "ipython3",
   "version": "3.10.8"
  }
 },
 "nbformat": 4,
 "nbformat_minor": 5
}
