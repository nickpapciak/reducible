{
 "cells": [
  {
   "cell_type": "markdown",
   "id": "f47a944b-37d5-430f-a99a-5a09bce5ac32",
   "metadata": {},
   "source": [
    "### Toy Network Training\n",
    "\n",
    "Below, we train a toy neural network and optimize its space using `reducible`"
   ]
  },
  {
   "cell_type": "code",
   "execution_count": 252,
   "id": "fd202d2b",
   "metadata": {},
   "outputs": [
    {
     "name": "stdout",
     "output_type": "stream",
     "text": [
      "The autoreload extension is already loaded. To reload it, use:\n",
      "  %reload_ext autoreload\n",
      "1875/1875 [==============================] - 25s 12ms/step - loss: 0.4728 - accuracy: 0.8293\n"
     ]
    },
    {
     "data": {
      "text/plain": [
       "<keras.src.callbacks.History at 0x2021a286e80>"
      ]
     },
     "execution_count": 252,
     "metadata": {},
     "output_type": "execute_result"
    }
   ],
   "source": [
    "%load_ext autoreload\n",
    "%autoreload 2\n",
    "\n",
    "# toy network example \n",
    "import tensorflow as tf\n",
    "import numpy as np\n",
    "\n",
    "mnist = tf.keras.datasets.fashion_mnist\n",
    "\n",
    "(x_train, y_train), (x_test, y_test) = mnist.load_data()\n",
    "x_train, x_test = x_train / 255.0, x_test / 255.0\n",
    "\n",
    "base_model = tf.keras.models.Sequential()\n",
    "base_model.add(tf.keras.layers.Flatten(input_shape=(28, 28)))\n",
    "base_model.add(tf.keras.layers.Dense(500, activation='relu'))\n",
    "base_model.add(tf.keras.layers.Dense(500, activation='relu'))\n",
    "base_model.add(tf.keras.layers.Dropout(0.2))\n",
    "base_model.add(tf.keras.layers.Dense(10))\n",
    "\n",
    "base_model.compile(optimizer='adam',\n",
    "              loss=tf.keras.losses.SparseCategoricalCrossentropy(from_logits=True),\n",
    "              metrics=['accuracy'])\n",
    "base_model.fit(x_train, y_train, epochs=1)"
   ]
  },
  {
   "cell_type": "markdown",
   "id": "712cf26c-d8fa-481f-9eb3-ea49288cbad4",
   "metadata": {},
   "source": [
    "### after training, our original model gets ~85% accuracy"
   ]
  },
  {
   "cell_type": "code",
   "execution_count": 253,
   "id": "06367f96",
   "metadata": {},
   "outputs": [
    {
     "name": "stdout",
     "output_type": "stream",
     "text": [
      "313/313 - 1s - loss: 0.4070 - accuracy: 0.8538 - 1s/epoch - 4ms/step\n"
     ]
    }
   ],
   "source": [
    "acc_base = base_model.evaluate(x_test,  y_test, verbose=2)[1]"
   ]
  },
  {
   "cell_type": "code",
   "execution_count": 254,
   "id": "3dee1b0a",
   "metadata": {},
   "outputs": [
    {
     "name": "stdout",
     "output_type": "stream",
     "text": [
      "313/313 - 2s - loss: 1.2531 - accuracy: 0.4818 - 2s/epoch - 7ms/step\n",
      "313/313 - 2s - loss: 1.2529 - accuracy: 0.4816 - 2s/epoch - 6ms/step\n",
      "313/313 - 2s - loss: 1.2529 - accuracy: 0.4821 - 2s/epoch - 6ms/step\n",
      "313/313 - 2s - loss: 0.9188 - accuracy: 0.6209 - 2s/epoch - 6ms/step\n",
      "313/313 - 2s - loss: 0.9186 - accuracy: 0.6212 - 2s/epoch - 6ms/step\n",
      "313/313 - 2s - loss: 0.9184 - accuracy: 0.6210 - 2s/epoch - 6ms/step\n",
      "313/313 - 2s - loss: 0.6630 - accuracy: 0.7916 - 2s/epoch - 6ms/step\n",
      "313/313 - 2s - loss: 0.6629 - accuracy: 0.7919 - 2s/epoch - 5ms/step\n",
      "313/313 - 2s - loss: 0.6619 - accuracy: 0.7940 - 2s/epoch - 6ms/step\n",
      "313/313 - 2s - loss: 0.6120 - accuracy: 0.8035 - 2s/epoch - 6ms/step\n",
      "313/313 - 2s - loss: 0.6121 - accuracy: 0.8035 - 2s/epoch - 6ms/step\n",
      "313/313 - 2s - loss: 0.6113 - accuracy: 0.8042 - 2s/epoch - 5ms/step\n",
      "313/313 - 2s - loss: 0.5125 - accuracy: 0.8310 - 2s/epoch - 6ms/step\n",
      "313/313 - 2s - loss: 0.5127 - accuracy: 0.8304 - 2s/epoch - 6ms/step\n",
      "313/313 - 2s - loss: 0.5126 - accuracy: 0.8306 - 2s/epoch - 6ms/step\n",
      "313/313 - 2s - loss: 0.4589 - accuracy: 0.8504 - 2s/epoch - 6ms/step\n"
     ]
    }
   ],
   "source": [
    "from reducible.optimize import optimize_model\n",
    "\n",
    "optimized_model = optimize_model(base_model, x_test, y_test, opt_factor=0.05, MAX_ITER=15)"
   ]
  },
  {
   "cell_type": "markdown",
   "metadata": {},
   "source": [
    "### and our parameter-reduced model gets ~85%!"
   ]
  },
  {
   "cell_type": "code",
   "execution_count": 255,
   "id": "974b8d7e",
   "metadata": {},
   "outputs": [
    {
     "name": "stdout",
     "output_type": "stream",
     "text": [
      "313/313 - 2s - loss: 0.4587 - accuracy: 0.8500 - 2s/epoch - 6ms/step\n"
     ]
    }
   ],
   "source": [
    "acc_opt = optimized_model.evaluate(x_test,  y_test, verbose=2)[1]"
   ]
  },
  {
   "cell_type": "markdown",
   "id": "bcacae89-c491-485f-8012-0aa96103afff",
   "metadata": {},
   "source": [
    "### Calculating the percent difference in accuracy"
   ]
  },
  {
   "cell_type": "code",
   "execution_count": 263,
   "id": "1c8d33ad",
   "metadata": {},
   "outputs": [
    {
     "data": {
      "text/plain": [
       "0.4450661658331348"
      ]
     },
     "execution_count": 263,
     "metadata": {},
     "output_type": "execute_result"
    }
   ],
   "source": [
    "100*(acc_base - acc_opt)/acc_base"
   ]
  },
  {
   "cell_type": "markdown",
   "id": "c8d7380b-0060-4745-9709-dc2b41290b5e",
   "metadata": {},
   "source": [
    "### Saving our model to disk"
   ]
  },
  {
   "cell_type": "code",
   "execution_count": 257,
   "id": "cd14c74e",
   "metadata": {},
   "outputs": [],
   "source": [
    "from reducible.save import save_model_to_file, load_model_from_file\n",
    "\n",
    "save_model_to_file(optimized_model, \"optimized_model.gyatt\")\n",
    "tf.keras.models.save_model(base_model, \"base_model.keras\")"
   ]
  },
  {
   "cell_type": "code",
   "execution_count": 258,
   "id": "79e3c9f4",
   "metadata": {},
   "outputs": [
    {
     "name": "stderr",
     "output_type": "stream",
     "text": [
      "WARNING:absl:Skipping variable loading for optimizer 'Adam', because it has 1 variables whereas the saved optimizer has 13 variables. \n"
     ]
    }
   ],
   "source": [
    "loaded_model = load_model_from_file(\"optimized_model.gyatt\")"
   ]
  },
  {
   "cell_type": "code",
   "execution_count": 259,
   "id": "7d8bc7a9",
   "metadata": {},
   "outputs": [
    {
     "name": "stdout",
     "output_type": "stream",
     "text": [
      "313/313 - 2s - loss: 0.4587 - accuracy: 0.8500 - 2s/epoch - 5ms/step\n"
     ]
    }
   ],
   "source": [
    "# checking to make sure model still works \n",
    "\n",
    "loaded_model.evaluate(x_test,  y_test, verbose=2);"
   ]
  },
  {
   "cell_type": "markdown",
   "id": "d5421455-99aa-4ea9-89f9-a03e30721ae5",
   "metadata": {},
   "source": [
    "## Future improvements: include serialization optimizations to close the gap"
   ]
  },
  {
   "cell_type": "code",
   "execution_count": 261,
   "id": "cbd1f068-7b8c-40fe-a966-1d3b91690147",
   "metadata": {},
   "outputs": [],
   "source": [
    "opt_total = 0\n",
    "base_total = 0\n",
    "# calculates predicted reduction by simply calculating the number of terms in weights and bias matrices \n",
    "\n",
    "from reducible.optimize import RankKApprox\n",
    "\n",
    "for layer in optimized_model.layers: \n",
    "    if isinstance(layer, RankKApprox):\n",
    "        opt_total += layer.A.numpy().size + layer.B.numpy().size +  layer.b.numpy().size\n",
    "\n",
    "for layer in base_model.layers: \n",
    "    if layer.get_weights(): \n",
    "        w, b = layer.get_weights()\n",
    "        opt_total += w.size\n",
    "        opt_total += b.size\n",
    "\n",
    "predicted_reduction = 1-opt_total/base_total"
   ]
  },
  {
   "cell_type": "code",
   "execution_count": 260,
   "id": "b48d2f3b",
   "metadata": {},
   "outputs": [],
   "source": [
    "import os\n",
    "actual_reduction = 1-os.path.getsize('optimized_model.gyatt')/os.path.getsize('base_model.keras')"
   ]
  },
  {
   "cell_type": "code",
   "execution_count": 262,
   "id": "518c287c-3ab1-42fd-9d43-cd8e6bc624da",
   "metadata": {},
   "outputs": [
    {
     "name": "stdout",
     "output_type": "stream",
     "text": [
      "Predicted reduction 65.9% | Actual reduction 16.1%\n"
     ]
    }
   ],
   "source": [
    "print(f\"Predicted reduction {predicted_reduction*100:0.1f}% | Actual reduction {actual_reduction*100:0.1f}%\")"
   ]
  },
  {
   "cell_type": "code",
   "execution_count": null,
   "id": "daf48dcb-cd83-48f6-8271-db50b16e4381",
   "metadata": {},
   "outputs": [],
   "source": []
  }
 ],
 "metadata": {
  "kernelspec": {
   "display_name": "Python 3 (ipykernel)",
   "language": "python",
   "name": "python3"
  },
  "language_info": {
   "codemirror_mode": {
    "name": "ipython",
    "version": 3
   },
   "file_extension": ".py",
   "mimetype": "text/x-python",
   "name": "python",
   "nbconvert_exporter": "python",
   "pygments_lexer": "ipython3",
   "version": "3.8.3"
  }
 },
 "nbformat": 4,
 "nbformat_minor": 5
}
