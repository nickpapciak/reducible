{
 "cells": [
  {
   "cell_type": "code",
   "execution_count": null,
   "id": "fd202d2b",
   "metadata": {},
   "outputs": [],
   "source": [
    "%load_ext autoreload\n",
    "%autoreload 2\n",
    "\n",
    "import tensorflow as tf\n",
    "import numpy as np\n",
    "\n",
    "mnist = tf.keras.datasets.fashion_mnist\n",
    "\n",
    "(x_train, y_train), (x_test, y_test) = mnist.load_data()\n",
    "x_train, x_test = x_train / 255.0, x_test / 255.0\n",
    "\n",
    "base_model = tf.keras.models.Sequential()\n",
    "base_model.add(tf.keras.layers.Flatten(input_shape=(28, 28)))\n",
    "base_model.add(tf.keras.layers.Dense(50, activation='relu'))\n",
    "base_model.add(tf.keras.layers.Dense(100, activation='relu'))\n",
    "base_model.add(tf.keras.layers.Dropout(0.2))\n",
    "base_model.add(tf.keras.layers.Dense(10))\n",
    "\n",
    "base_model.compile(optimizer='adam',\n",
    "              loss=tf.keras.losses.SparseCategoricalCrossentropy(from_logits=True),\n",
    "              metrics=['accuracy'])\n",
    "base_model.fit(x_train, y_train, epochs=1)"
   ]
  },
  {
   "cell_type": "code",
   "execution_count": null,
   "id": "06367f96",
   "metadata": {},
   "outputs": [],
   "source": [
    "base_model.evaluate(x_test,  y_test, verbose=2)"
   ]
  },
  {
   "cell_type": "code",
   "execution_count": null,
   "id": "3dee1b0a",
   "metadata": {},
   "outputs": [],
   "source": [
    "from reducible.optimize import optimize_model, model_from_ks_\n",
    "\n",
    "\n",
    "# optimized_model = optimize_model(base_model, x_test, y_test, opt_factor=0.01)\n",
    "optimized_model = model_from_ks_(base_model, [100000, 100000, 100000, 100000, 10000])"
   ]
  },
  {
   "cell_type": "code",
   "execution_count": null,
   "id": "974b8d7e",
   "metadata": {},
   "outputs": [],
   "source": [
    "optimized_model.evaluate(x_test,  y_test, verbose=2)"
   ]
  },
  {
   "cell_type": "code",
   "execution_count": null,
   "id": "1c8d33ad",
   "metadata": {},
   "outputs": [],
   "source": [
    "# percent difference\n",
    "100*(0.9793 - 0.9764)/0.9793"
   ]
  },
  {
   "cell_type": "code",
   "execution_count": null,
   "id": "cd14c74e",
   "metadata": {},
   "outputs": [],
   "source": [
    "from reducible.save import save_model_to_file, load_model_from_file\n",
    "\n",
    "save_model_to_file(optimized_model, \"optimized_model.gyatt\")\n",
    "tf.keras.models.save_model(base_model, \"base_model.keras\")"
   ]
  },
  {
   "cell_type": "code",
   "execution_count": null,
   "id": "79e3c9f4",
   "metadata": {},
   "outputs": [],
   "source": [
    "loaded_model = load_model_from_file(\"optimized_model.gyatt\")"
   ]
  },
  {
   "cell_type": "code",
   "execution_count": null,
   "id": "7d8bc7a9",
   "metadata": {},
   "outputs": [],
   "source": [
    "loaded_model.evaluate(x_test,  y_test, verbose=2)"
   ]
  },
  {
   "cell_type": "code",
   "execution_count": null,
   "id": "b48d2f3b",
   "metadata": {},
   "outputs": [],
   "source": []
  }
 ],
 "metadata": {
  "kernelspec": {
   "display_name": "Python 3 (ipykernel)",
   "language": "python",
   "name": "python3"
  },
  "language_info": {
   "codemirror_mode": {
    "name": "ipython",
    "version": 3
   },
   "file_extension": ".py",
   "mimetype": "text/x-python",
   "name": "python",
   "nbconvert_exporter": "python",
   "pygments_lexer": "ipython3",
   "version": "3.10.8"
  }
 },
 "nbformat": 4,
 "nbformat_minor": 5
}
