{
 "cells": [
  {
   "cell_type": "markdown",
   "id": "f47a944b-37d5-430f-a99a-5a09bce5ac32",
   "metadata": {},
   "source": [
    "### Toy Network Training\n",
    "\n",
    "Below, we train a toy neural network and optimize its space using `reducible`"
   ]
  },
  {
   "cell_type": "code",
   "execution_count": 2,
   "id": "fd202d2b",
   "metadata": {},
   "outputs": [
    {
     "name": "stdout",
     "output_type": "stream",
     "text": [
      "The autoreload extension is already loaded. To reload it, use:\n",
      "  %reload_ext autoreload\n",
      "Epoch 1/15\n",
      "1875/1875 [==============================] - 2s 956us/step - loss: 0.2531 - accuracy: 0.9237\n",
      "Epoch 2/15\n",
      "1875/1875 [==============================] - 2s 956us/step - loss: 0.1067 - accuracy: 0.9678\n",
      "Epoch 3/15\n",
      "1875/1875 [==============================] - 2s 959us/step - loss: 0.0781 - accuracy: 0.9761\n",
      "Epoch 4/15\n",
      "1875/1875 [==============================] - 2s 955us/step - loss: 0.0610 - accuracy: 0.9811\n",
      "Epoch 5/15\n",
      "1875/1875 [==============================] - 2s 962us/step - loss: 0.0499 - accuracy: 0.9836\n",
      "Epoch 6/15\n",
      "1875/1875 [==============================] - 2s 956us/step - loss: 0.0429 - accuracy: 0.9865\n",
      "Epoch 7/15\n",
      "1875/1875 [==============================] - 2s 951us/step - loss: 0.0365 - accuracy: 0.9883\n",
      "Epoch 8/15\n",
      "1875/1875 [==============================] - 2s 949us/step - loss: 0.0305 - accuracy: 0.9905\n",
      "Epoch 9/15\n",
      "1875/1875 [==============================] - 2s 945us/step - loss: 0.0309 - accuracy: 0.9903\n",
      "Epoch 10/15\n",
      "1875/1875 [==============================] - 2s 949us/step - loss: 0.0263 - accuracy: 0.9915\n",
      "Epoch 11/15\n",
      "1875/1875 [==============================] - 2s 944us/step - loss: 0.0244 - accuracy: 0.9927\n",
      "Epoch 12/15\n",
      "1875/1875 [==============================] - 2s 952us/step - loss: 0.0228 - accuracy: 0.9927\n",
      "Epoch 13/15\n",
      "1875/1875 [==============================] - 2s 965us/step - loss: 0.0186 - accuracy: 0.9942\n",
      "Epoch 14/15\n",
      "1875/1875 [==============================] - 2s 953us/step - loss: 0.0208 - accuracy: 0.9941\n",
      "Epoch 15/15\n",
      "1875/1875 [==============================] - 2s 950us/step - loss: 0.0194 - accuracy: 0.9940\n"
     ]
    },
    {
     "data": {
      "text/plain": [
       "<keras.src.callbacks.History at 0x2ace4c250>"
      ]
     },
     "execution_count": 2,
     "metadata": {},
     "output_type": "execute_result"
    }
   ],
   "source": [
    "%load_ext autoreload\n",
    "%autoreload 2\n",
    "\n",
    "# toy network example \n",
    "import tensorflow as tf\n",
    "import numpy as np\n",
    "\n",
    "mnist = tf.keras.datasets.mnist\n",
    "\n",
    "(x_train, y_train), (x_test, y_test) = mnist.load_data()\n",
    "x_train, x_test = x_train / 255.0, x_test / 255.0\n",
    "\n",
    "base_model = tf.keras.models.Sequential()\n",
    "base_model.add(tf.keras.layers.Flatten(input_shape=(28, 28)))\n",
    "base_model.add(tf.keras.layers.Dense(128, activation='relu'))\n",
    "base_model.add(tf.keras.layers.Dense(128, activation='relu'))\n",
    "base_model.add(tf.keras.layers.Dense(128, activation='relu'))\n",
    "base_model.add(tf.keras.layers.Dropout(0.2))\n",
    "base_model.add(tf.keras.layers.Dense(10))\n",
    "\n",
    "base_model.compile(optimizer='adam',\n",
    "              loss=tf.keras.losses.SparseCategoricalCrossentropy(from_logits=True),\n",
    "              metrics=['accuracy'])\n",
    "base_model.fit(x_train, y_train, epochs=15)"
   ]
  },
  {
   "cell_type": "markdown",
   "id": "712cf26c-d8fa-481f-9eb3-ea49288cbad4",
   "metadata": {},
   "source": [
    "### after training, our original model gets..."
   ]
  },
  {
   "cell_type": "code",
   "execution_count": 6,
   "id": "06367f96",
   "metadata": {},
   "outputs": [
    {
     "name": "stdout",
     "output_type": "stream",
     "text": [
      "313/313 - 0s - loss: 0.1167 - accuracy: 0.9758 - 127ms/epoch - 406us/step\n"
     ]
    }
   ],
   "source": [
    "acc_base = base_model.evaluate(x_test,  y_test, verbose=2)[1]"
   ]
  },
  {
   "cell_type": "code",
   "execution_count": 8,
   "id": "3dee1b0a",
   "metadata": {},
   "outputs": [
    {
     "name": "stdout",
     "output_type": "stream",
     "text": [
      "313/313 - 0s - loss: 1.3578 - accuracy: 0.5638 - 377ms/epoch - 1ms/step\n",
      "313/313 - 0s - loss: 1.3616 - accuracy: 0.5634 - 349ms/epoch - 1ms/step\n",
      "313/313 - 0s - loss: 1.3630 - accuracy: 0.5635 - 364ms/epoch - 1ms/step\n",
      "313/313 - 0s - loss: 1.3573 - accuracy: 0.5641 - 355ms/epoch - 1ms/step\n",
      "313/313 - 0s - loss: 0.4534 - accuracy: 0.8513 - 347ms/epoch - 1ms/step\n",
      "313/313 - 0s - loss: 0.4541 - accuracy: 0.8511 - 353ms/epoch - 1ms/step\n",
      "313/313 - 0s - loss: 0.4535 - accuracy: 0.8522 - 357ms/epoch - 1ms/step\n",
      "313/313 - 0s - loss: 0.4573 - accuracy: 0.8519 - 351ms/epoch - 1ms/step\n",
      "313/313 - 0s - loss: 0.3196 - accuracy: 0.9025 - 363ms/epoch - 1ms/step\n",
      "313/313 - 0s - loss: 0.3245 - accuracy: 0.9006 - 362ms/epoch - 1ms/step\n",
      "313/313 - 0s - loss: 0.3332 - accuracy: 0.8972 - 354ms/epoch - 1ms/step\n",
      "313/313 - 0s - loss: 0.3286 - accuracy: 0.9006 - 370ms/epoch - 1ms/step\n",
      "313/313 - 0s - loss: 0.2070 - accuracy: 0.9506 - 358ms/epoch - 1ms/step\n",
      "313/313 - 0s - loss: 0.2103 - accuracy: 0.9509 - 355ms/epoch - 1ms/step\n",
      "313/313 - 0s - loss: 0.2105 - accuracy: 0.9504 - 363ms/epoch - 1ms/step\n",
      "313/313 - 0s - loss: 0.2098 - accuracy: 0.9508 - 350ms/epoch - 1ms/step\n",
      "313/313 - 0s - loss: 0.1446 - accuracy: 0.9625 - 336ms/epoch - 1ms/step\n",
      "313/313 - 0s - loss: 0.1445 - accuracy: 0.9627 - 392ms/epoch - 1ms/step\n",
      "313/313 - 0s - loss: 0.1439 - accuracy: 0.9632 - 374ms/epoch - 1ms/step\n",
      "313/313 - 0s - loss: 0.1441 - accuracy: 0.9628 - 361ms/epoch - 1ms/step\n",
      "313/313 - 0s - loss: 0.1555 - accuracy: 0.9625 - 371ms/epoch - 1ms/step\n",
      "313/313 - 0s - loss: 0.1618 - accuracy: 0.9615 - 364ms/epoch - 1ms/step\n",
      "313/313 - 0s - loss: 0.1580 - accuracy: 0.9618 - 368ms/epoch - 1ms/step\n",
      "313/313 - 0s - loss: 0.1574 - accuracy: 0.9615 - 365ms/epoch - 1ms/step\n",
      "313/313 - 0s - loss: 0.1445 - accuracy: 0.9663 - 361ms/epoch - 1ms/step\n",
      "313/313 - 0s - loss: 0.1451 - accuracy: 0.9667 - 361ms/epoch - 1ms/step\n"
     ]
    }
   ],
   "source": [
    "from reducible.optimize import optimize_model\n",
    "\n",
    "optimized_model = optimize_model(base_model, x_test, y_test)"
   ]
  },
  {
   "cell_type": "markdown",
   "id": "470d52d6",
   "metadata": {},
   "source": [
    "### and our parameter-reduced model gets ... "
   ]
  },
  {
   "cell_type": "code",
   "execution_count": 9,
   "id": "974b8d7e",
   "metadata": {},
   "outputs": [
    {
     "name": "stdout",
     "output_type": "stream",
     "text": [
      "313/313 - 0s - loss: 0.1451 - accuracy: 0.9667 - 227ms/epoch - 725us/step\n"
     ]
    }
   ],
   "source": [
    "acc_opt = optimized_model.evaluate(x_test,  y_test, verbose=2)[1]"
   ]
  },
  {
   "cell_type": "markdown",
   "id": "bcacae89-c491-485f-8012-0aa96103afff",
   "metadata": {},
   "source": [
    "### Calculating the percent difference in accuracy"
   ]
  },
  {
   "cell_type": "code",
   "execution_count": 10,
   "id": "1c8d33ad",
   "metadata": {},
   "outputs": [
    {
     "data": {
      "text/plain": [
       "0.9325641047724825"
      ]
     },
     "execution_count": 10,
     "metadata": {},
     "output_type": "execute_result"
    }
   ],
   "source": [
    "100*(acc_base - acc_opt)/acc_base"
   ]
  },
  {
   "cell_type": "markdown",
   "id": "c8d7380b-0060-4745-9709-dc2b41290b5e",
   "metadata": {},
   "source": [
    "### Saving our model to disk"
   ]
  },
  {
   "cell_type": "code",
   "execution_count": 11,
   "id": "cd14c74e",
   "metadata": {},
   "outputs": [],
   "source": [
    "from reducible.save import save_model_to_file, load_model_from_file\n",
    "\n",
    "save_model_to_file(optimized_model, \"optimized_model.gyatt\")\n",
    "tf.keras.models.save_model(base_model, \"base_model.keras\")"
   ]
  },
  {
   "cell_type": "code",
   "execution_count": 12,
   "id": "79e3c9f4",
   "metadata": {},
   "outputs": [],
   "source": [
    "loaded_model = load_model_from_file(\"optimized_model.gyatt\")"
   ]
  },
  {
   "cell_type": "code",
   "execution_count": 13,
   "id": "7d8bc7a9",
   "metadata": {},
   "outputs": [
    {
     "name": "stdout",
     "output_type": "stream",
     "text": [
      "313/313 - 0s - loss: 0.1451 - accuracy: 0.9667 - 187ms/epoch - 599us/step\n"
     ]
    }
   ],
   "source": [
    "# checking to make sure model still works \n",
    "\n",
    "loaded_model.evaluate(x_test,  y_test, verbose=2);"
   ]
  },
  {
   "cell_type": "markdown",
   "id": "d5421455-99aa-4ea9-89f9-a03e30721ae5",
   "metadata": {},
   "source": [
    "## Future improvements: include serialization optimizations to close the gap"
   ]
  },
  {
   "cell_type": "code",
   "execution_count": 15,
   "id": "cbd1f068-7b8c-40fe-a966-1d3b91690147",
   "metadata": {},
   "outputs": [],
   "source": [
    "opt_total = 0\n",
    "base_total = 0\n",
    "# calculates predicted reduction by simply calculating the number of terms in weights and bias matrices \n",
    "\n",
    "from reducible.optimize import RankKApprox\n",
    "\n",
    "for layer in optimized_model.layers: \n",
    "    if isinstance(layer, RankKApprox):\n",
    "        opt_total += layer.A.numpy().size + layer.B.numpy().size +  layer.b.numpy().size\n",
    "\n",
    "for layer in base_model.layers: \n",
    "    if layer.get_weights(): \n",
    "        w, b = layer.get_weights()\n",
    "        base_total += w.size\n",
    "        base_total += b.size\n",
    "\n",
    "predicted_reduction = 1-opt_total/base_total"
   ]
  },
  {
   "cell_type": "code",
   "execution_count": 16,
   "id": "b48d2f3b",
   "metadata": {},
   "outputs": [],
   "source": [
    "import os\n",
    "actual_reduction = 1-os.path.getsize('optimized_model.gyatt')/os.path.getsize('base_model.keras')"
   ]
  },
  {
   "cell_type": "code",
   "execution_count": 17,
   "id": "518c287c-3ab1-42fd-9d43-cd8e6bc624da",
   "metadata": {},
   "outputs": [
    {
     "name": "stdout",
     "output_type": "stream",
     "text": [
      "Predicted reduction 43.4% | Actual reduction 41.9%\n"
     ]
    }
   ],
   "source": [
    "print(f\"Predicted reduction {predicted_reduction*100:0.1f}% | Actual reduction {actual_reduction*100:0.1f}%\")"
   ]
  },
  {
   "cell_type": "code",
   "execution_count": null,
   "id": "daf48dcb-cd83-48f6-8271-db50b16e4381",
   "metadata": {},
   "outputs": [],
   "source": []
  }
 ],
 "metadata": {
  "kernelspec": {
   "display_name": "Python 3 (ipykernel)",
   "language": "python",
   "name": "python3"
  },
  "language_info": {
   "codemirror_mode": {
    "name": "ipython",
    "version": 3
   },
   "file_extension": ".py",
   "mimetype": "text/x-python",
   "name": "python",
   "nbconvert_exporter": "python",
   "pygments_lexer": "ipython3",
   "version": "3.10.8"
  }
 },
 "nbformat": 4,
 "nbformat_minor": 5
}
