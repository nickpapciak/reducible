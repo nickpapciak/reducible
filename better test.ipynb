{
 "cells": [
  {
   "cell_type": "code",
   "execution_count": 1,
   "id": "4a0a20b0",
   "metadata": {},
   "outputs": [],
   "source": [
    "import sklearn\n",
    "import tensorflow as tf\n",
    "from tensorflow import keras\n",
    "import numpy as np\n",
    "\n",
    "mnist = tf.keras.datasets.mnist\n",
    "layer_amt = 3\n",
    "\n",
    "(x_train, y_train), (x_test, y_test) = mnist.load_data()\n",
    "x_train, x_test = x_train / 255.0, x_test / 255.0"
   ]
  },
  {
   "cell_type": "code",
   "execution_count": 2,
   "id": "93a151db",
   "metadata": {},
   "outputs": [
    {
     "name": "stdout",
     "output_type": "stream",
     "text": [
      "Epoch 1/15\n",
      "1875/1875 [==============================] - 2s 998us/step - loss: 0.2484 - accuracy: 0.9250\n",
      "Epoch 2/15\n",
      "1875/1875 [==============================] - 2s 990us/step - loss: 0.1083 - accuracy: 0.9669\n",
      "Epoch 3/15\n",
      "1875/1875 [==============================] - 2s 986us/step - loss: 0.0779 - accuracy: 0.9758\n",
      "Epoch 4/15\n",
      "1875/1875 [==============================] - 2s 993us/step - loss: 0.0616 - accuracy: 0.9812\n",
      "Epoch 5/15\n",
      "1875/1875 [==============================] - 2s 979us/step - loss: 0.0516 - accuracy: 0.9842\n",
      "Epoch 6/15\n",
      "1875/1875 [==============================] - 2s 1ms/step - loss: 0.0431 - accuracy: 0.9868\n",
      "Epoch 7/15\n",
      "1875/1875 [==============================] - 2s 984us/step - loss: 0.0366 - accuracy: 0.9883\n",
      "Epoch 8/15\n",
      "1875/1875 [==============================] - 2s 1ms/step - loss: 0.0337 - accuracy: 0.9893\n",
      "Epoch 9/15\n",
      "1875/1875 [==============================] - 2s 1ms/step - loss: 0.0286 - accuracy: 0.9908\n",
      "Epoch 10/15\n",
      "1875/1875 [==============================] - 2s 1ms/step - loss: 0.0242 - accuracy: 0.9923\n",
      "Epoch 11/15\n",
      "1875/1875 [==============================] - 2s 980us/step - loss: 0.0240 - accuracy: 0.9925\n",
      "Epoch 12/15\n",
      "1875/1875 [==============================] - 2s 975us/step - loss: 0.0210 - accuracy: 0.9940\n",
      "Epoch 13/15\n",
      "1875/1875 [==============================] - 2s 971us/step - loss: 0.0217 - accuracy: 0.9933\n",
      "Epoch 14/15\n",
      "1875/1875 [==============================] - 2s 968us/step - loss: 0.0204 - accuracy: 0.9937\n",
      "Epoch 15/15\n",
      "1875/1875 [==============================] - 2s 968us/step - loss: 0.0184 - accuracy: 0.9942\n"
     ]
    },
    {
     "data": {
      "text/plain": [
       "<keras.src.callbacks.History at 0x29494a020>"
      ]
     },
     "execution_count": 2,
     "metadata": {},
     "output_type": "execute_result"
    }
   ],
   "source": [
    "base_model = tf.keras.models.Sequential()\n",
    "base_model.add(tf.keras.layers.Flatten(input_shape=(28, 28)))\n",
    "\n",
    "for x in range(layer_amt): \n",
    "    base_model.add(tf.keras.layers.Dense(128, activation='relu'))\n",
    "\n",
    "base_model.add(tf.keras.layers.Dropout(0.2))\n",
    "base_model.add(tf.keras.layers.Dense(10))\n",
    "\n",
    "\n",
    "base_model.compile(optimizer='adam',\n",
    "              loss=tf.keras.losses.SparseCategoricalCrossentropy(from_logits=True),\n",
    "              metrics=['accuracy'])\n",
    "base_model.fit(x_train, y_train, epochs=15)"
   ]
  },
  {
   "cell_type": "code",
   "execution_count": 3,
   "id": "e8f2bf15",
   "metadata": {},
   "outputs": [
    {
     "name": "stdout",
     "output_type": "stream",
     "text": [
      "313/313 - 0s - loss: 0.1114 - accuracy: 0.9801 - 210ms/epoch - 672us/step\n"
     ]
    },
    {
     "data": {
      "text/plain": [
       "[0.1114104613661766, 0.9800999760627747]"
      ]
     },
     "execution_count": 3,
     "metadata": {},
     "output_type": "execute_result"
    }
   ],
   "source": [
    "base_model.evaluate(x_test,  y_test, verbose=2)"
   ]
  },
  {
   "cell_type": "code",
   "execution_count": 124,
   "id": "98e0d86a",
   "metadata": {},
   "outputs": [],
   "source": [
    "import tensorflow.keras.backend as K\n",
    "from tensorflow.keras import activations\n",
    "\n",
    "@keras.saving.register_keras_serializable()\n",
    "class PCAProj(tf.keras.layers.Layer):\n",
    "    def __init__(self, layer, k, activation=None, **kwargs):\n",
    "        super().__init__(**kwargs)\n",
    "        self.trainable=False\n",
    "        self.activation = activations.get(activation)\n",
    "        self.k = k\n",
    "        \n",
    "        # if W is m x n, A is m x k and B is k x n\n",
    "        w, b = layer.get_weights()\n",
    "        self.b = K.constant(b)\n",
    "        if w is not None: \n",
    "            u, s, vT = np.linalg.svd(w, full_matrices=False)\n",
    "            self.A = K.constant(u[:, :k] @ np.diag(s[:k]))\n",
    "            self.B = K.constant(vT[:k])\n",
    "        \n",
    "    def call(self, inputs):  \n",
    "        return self.activation(tf.matmul(inputs, tf.matmul(self.A, self.B)) + self.b)\n",
    "\n",
    "    def get_config(self):\n",
    "        base_config = super().get_config()\n",
    "        config = {\n",
    "            \"A\": keras.saving.serialize_keras_object(self.A),\n",
    "            \"B\": keras.saving.serialize_keras_object(self.B),\n",
    "            \"bias\": keras.saving.serialize_keras_object(self.b),\n",
    "            \"k\": self.k,\n",
    "            \"activation\": self.activation\n",
    "        }\n",
    "        return {**base_config, **config}\n",
    "    \n",
    "    @classmethod\n",
    "    def from_config(cls, config):\n",
    "        A = keras.saving.deserialize_keras_object(config.pop(\"A\"))\n",
    "        B = keras.saving.deserialize_keras_object(config.pop(\"B\"))\n",
    "        bias = keras.saving.deserialize_keras_object(config.pop(\"bias\"))\n",
    "        layer = cls([None, bias], **config)\n",
    "        layer.A = A\n",
    "        layer.B = B\n",
    "        return layer"
   ]
  },
  {
   "cell_type": "code",
   "execution_count": 127,
   "id": "1691b87e",
   "metadata": {},
   "outputs": [
    {
     "ename": "ValueError",
     "evalue": "not enough values to unpack (expected 2, got 0)",
     "output_type": "error",
     "traceback": [
      "\u001b[0;31m---------------------------------------------------------------------------\u001b[0m",
      "\u001b[0;31mValueError\u001b[0m                                Traceback (most recent call last)",
      "Cell \u001b[0;32mIn[127], line 8\u001b[0m\n\u001b[1;32m      6\u001b[0m ks \u001b[38;5;241m=\u001b[39m [\u001b[38;5;241m40\u001b[39m, \u001b[38;5;241m18\u001b[39m, \u001b[38;5;241m21\u001b[39m]\n\u001b[1;32m      7\u001b[0m \u001b[38;5;28;01mfor\u001b[39;00m x \u001b[38;5;129;01min\u001b[39;00m \u001b[38;5;28mrange\u001b[39m(layer_amt): \n\u001b[0;32m----> 8\u001b[0m     optimized_model\u001b[38;5;241m.\u001b[39madd(\u001b[43mPCAProj\u001b[49m\u001b[43m(\u001b[49m\u001b[43mbase_model\u001b[49m\u001b[38;5;241;43m.\u001b[39;49m\u001b[43mlayers\u001b[49m\u001b[43m[\u001b[49m\u001b[43mx\u001b[49m\u001b[43m]\u001b[49m\u001b[43m,\u001b[49m\u001b[43m \u001b[49m\u001b[43mks\u001b[49m\u001b[43m[\u001b[49m\u001b[43mx\u001b[49m\u001b[43m]\u001b[49m\u001b[43m,\u001b[49m\u001b[43m \u001b[49m\u001b[43mactivation\u001b[49m\u001b[38;5;241;43m=\u001b[39;49m\u001b[38;5;124;43m'\u001b[39;49m\u001b[38;5;124;43mrelu\u001b[39;49m\u001b[38;5;124;43m'\u001b[39;49m\u001b[43m)\u001b[49m)\n\u001b[1;32m     10\u001b[0m optimized_model\u001b[38;5;241m.\u001b[39madd(tf\u001b[38;5;241m.\u001b[39mkeras\u001b[38;5;241m.\u001b[39mlayers\u001b[38;5;241m.\u001b[39mDropout(\u001b[38;5;241m0.2\u001b[39m))\n\u001b[1;32m     11\u001b[0m optimized_model\u001b[38;5;241m.\u001b[39madd(PCAProj(base_model\u001b[38;5;241m.\u001b[39mlayers[\u001b[38;5;241m5\u001b[39m], k \u001b[38;5;241m=\u001b[39m \u001b[38;5;241m10\u001b[39m, activation\u001b[38;5;241m=\u001b[39m\u001b[38;5;124m'\u001b[39m\u001b[38;5;124mrelu\u001b[39m\u001b[38;5;124m'\u001b[39m))\n",
      "Cell \u001b[0;32mIn[124], line 13\u001b[0m, in \u001b[0;36mPCAProj.__init__\u001b[0;34m(self, layer, k, activation, **kwargs)\u001b[0m\n\u001b[1;32m     10\u001b[0m \u001b[38;5;28mself\u001b[39m\u001b[38;5;241m.\u001b[39mk \u001b[38;5;241m=\u001b[39m k\n\u001b[1;32m     12\u001b[0m \u001b[38;5;66;03m# if W is m x n, A is m x k and B is k x n\u001b[39;00m\n\u001b[0;32m---> 13\u001b[0m w, b \u001b[38;5;241m=\u001b[39m layer\u001b[38;5;241m.\u001b[39mget_weights()\n\u001b[1;32m     14\u001b[0m \u001b[38;5;28mself\u001b[39m\u001b[38;5;241m.\u001b[39mb \u001b[38;5;241m=\u001b[39m K\u001b[38;5;241m.\u001b[39mconstant(b)\n\u001b[1;32m     15\u001b[0m \u001b[38;5;28;01mif\u001b[39;00m w \u001b[38;5;129;01mis\u001b[39;00m \u001b[38;5;129;01mnot\u001b[39;00m \u001b[38;5;28;01mNone\u001b[39;00m: \n",
      "\u001b[0;31mValueError\u001b[0m: not enough values to unpack (expected 2, got 0)"
     ]
    }
   ],
   "source": [
    "optimized_model = tf.keras.models.Sequential()\n",
    "optimized_model.add(tf.keras.layers.Flatten(input_shape=(28, 28)))\n",
    "\n",
    "weights = base_model.get_weights()\n",
    "\n",
    "ks = [40, 18, 21]\n",
    "for x in range(layer_amt): \n",
    "    optimized_model.add(PCAProj(base_model.layers[x], ks[x], activation='relu'))\n",
    "    \n",
    "optimized_model.add(tf.keras.layers.Dropout(0.2))\n",
    "optimized_model.add(PCAProj(base_model.layers[5], k = 10, activation='relu'))\n",
    "\n",
    "optimized_model.compile(optimizer='adam',\n",
    "              loss=tf.keras.losses.SparseCategoricalCrossentropy(from_logits=True),\n",
    "              metrics=['accuracy'])"
   ]
  },
  {
   "cell_type": "code",
   "execution_count": 126,
   "id": "154961b0",
   "metadata": {},
   "outputs": [
    {
     "name": "stdout",
     "output_type": "stream",
     "text": [
      "313/313 - 0s - loss: 0.1295 - accuracy: 0.9714 - 255ms/epoch - 815us/step\n"
     ]
    },
    {
     "data": {
      "text/plain": [
       "[0.1294977068901062, 0.9714000225067139]"
      ]
     },
     "execution_count": 126,
     "metadata": {},
     "output_type": "execute_result"
    }
   ],
   "source": [
    "optimized_model.evaluate(x_test,  y_test, verbose=2)"
   ]
  },
  {
   "cell_type": "code",
   "execution_count": 82,
   "id": "a35dac65",
   "metadata": {},
   "outputs": [
    {
     "data": {
      "text/plain": [
       "(48238, 134794)"
      ]
     },
     "execution_count": 82,
     "metadata": {},
     "output_type": "execute_result"
    }
   ],
   "source": [
    "memory = 0\n",
    "\n",
    "for layer in optimized_model.layers: \n",
    "    if isinstance(layer, PCAProj): \n",
    "        memory += np.prod(layer.A.shape) + np.prod(layer.B.shape)\n",
    "        memory += np.prod(layer.b.shape)\n",
    "    if layer.weights: \n",
    "        memory += np.prod(layer.weights[0].shape)\n",
    "        memory += np.prod(layer.weights[1].shape)\n",
    "        \n",
    "\n",
    "bad_mem = 0\n",
    "for layer in base_model.layers: \n",
    "    if layer.weights: \n",
    "        bad_mem += np.prod(layer.weights[0].shape)\n",
    "        bad_mem += np.prod(layer.weights[1].shape)\n",
    "        \n",
    "memory, bad_mem"
   ]
  },
  {
   "cell_type": "code",
   "execution_count": 86,
   "id": "9cfc8730",
   "metadata": {},
   "outputs": [],
   "source": [
    "optimized_model.save(\"optimized_model.keras\")"
   ]
  },
  {
   "cell_type": "code",
   "execution_count": 99,
   "id": "4748b9e6",
   "metadata": {},
   "outputs": [],
   "source": [
    "test = []\n",
    "\n",
    "for layer in optimized_model.layers: \n",
    "    if isinstance(layer, PCAProj): \n",
    "        test.append(layer.A.numpy().flatten())\n",
    "        test.append(layer.B.numpy().flatten())\n",
    "        test.append(layer.b.numpy().flatten())\n",
    "test = np.concatenate(test)\n",
    "np.save(\"test.npy\", test)"
   ]
  },
  {
   "cell_type": "code",
   "execution_count": 92,
   "id": "eb7fe577",
   "metadata": {},
   "outputs": [
    {
     "data": {
      "text/plain": [
       "0.625"
      ]
     },
     "execution_count": 92,
     "metadata": {},
     "output_type": "execute_result"
    }
   ],
   "source": [
    "(np.prod(optimized_model.layers[2].A.shape) + np.prod(optimized_model.layers[2].A.shape))/np.prod(base_model.layers[2].get_weights()[0].shape)"
   ]
  },
  {
   "cell_type": "code",
   "execution_count": 104,
   "id": "91856e58",
   "metadata": {},
   "outputs": [
    {
     "data": {
      "text/plain": [
       "((784, 40), (40, 128), (128, 40), (40, 128))"
      ]
     },
     "execution_count": 104,
     "metadata": {},
     "output_type": "execute_result"
    }
   ],
   "source": [
    "optimized_model.layers[1].A.shape, optimized_model.layers[1].B.shape, optimized_model.layers[2].A.shape, optimized_model.layers[2].B.shape"
   ]
  },
  {
   "cell_type": "code",
   "execution_count": 9,
   "id": "d6c64a65",
   "metadata": {},
   "outputs": [
    {
     "data": {
      "text/plain": [
       "[<keras.src.layers.reshaping.flatten.Flatten at 0x2de9005b0>,\n",
       " <__main__.PCAProj at 0x2de902440>,\n",
       " <__main__.PCAProj at 0x2de8f6830>,\n",
       " <__main__.PCAProj at 0x2de8f6980>,\n",
       " <keras.src.layers.regularization.dropout.Dropout at 0x104f36ad0>,\n",
       " <__main__.PCAProj at 0x2de8f5db0>]"
      ]
     },
     "execution_count": 9,
     "metadata": {},
     "output_type": "execute_result"
    }
   ],
   "source": [
    "optimized_model.layers"
   ]
  },
  {
   "cell_type": "code",
   "execution_count": null,
   "id": "684b390d",
   "metadata": {},
   "outputs": [],
   "source": []
  }
 ],
 "metadata": {
  "kernelspec": {
   "display_name": "Python 3 (ipykernel)",
   "language": "python",
   "name": "python3"
  },
  "language_info": {
   "codemirror_mode": {
    "name": "ipython",
    "version": 3
   },
   "file_extension": ".py",
   "mimetype": "text/x-python",
   "name": "python",
   "nbconvert_exporter": "python",
   "pygments_lexer": "ipython3",
   "version": "3.10.8"
  }
 },
 "nbformat": 4,
 "nbformat_minor": 5
}
