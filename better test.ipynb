{
 "cells": [
  {
   "cell_type": "code",
   "execution_count": 84,
   "id": "4a0a20b0",
   "metadata": {},
   "outputs": [],
   "source": [
    "import sklearn\n",
    "import tensorflow as tf\n",
    "from tensorflow import keras\n",
    "import numpy as np\n",
    "\n",
    "mnist = tf.keras.datasets.mnist\n",
    "layer_amt = 3\n",
    "\n",
    "(x_train, y_train), (x_test, y_test) = mnist.load_data()\n",
    "x_train, x_test = x_train / 255.0, x_test / 255.0"
   ]
  },
  {
   "cell_type": "code",
   "execution_count": 63,
   "id": "93a151db",
   "metadata": {},
   "outputs": [
    {
     "name": "stdout",
     "output_type": "stream",
     "text": [
      "Epoch 1/15\n",
      "1875/1875 [==============================] - 2s 1ms/step - loss: 0.2528 - accuracy: 0.9232\n",
      "Epoch 2/15\n",
      "1875/1875 [==============================] - 2s 991us/step - loss: 0.1064 - accuracy: 0.9681\n",
      "Epoch 3/15\n",
      "1875/1875 [==============================] - 2s 980us/step - loss: 0.0785 - accuracy: 0.9753\n",
      "Epoch 4/15\n",
      "1875/1875 [==============================] - 2s 983us/step - loss: 0.0620 - accuracy: 0.9806\n",
      "Epoch 5/15\n",
      "1875/1875 [==============================] - 2s 992us/step - loss: 0.0498 - accuracy: 0.9847\n",
      "Epoch 6/15\n",
      "1875/1875 [==============================] - 2s 990us/step - loss: 0.0439 - accuracy: 0.9862\n",
      "Epoch 7/15\n",
      "1875/1875 [==============================] - 2s 980us/step - loss: 0.0352 - accuracy: 0.9889\n",
      "Epoch 8/15\n",
      "1875/1875 [==============================] - 2s 987us/step - loss: 0.0329 - accuracy: 0.9900\n",
      "Epoch 9/15\n",
      "1875/1875 [==============================] - 2s 983us/step - loss: 0.0290 - accuracy: 0.9912\n",
      "Epoch 10/15\n",
      "1875/1875 [==============================] - 2s 977us/step - loss: 0.0278 - accuracy: 0.9917\n",
      "Epoch 11/15\n",
      "1875/1875 [==============================] - 2s 992us/step - loss: 0.0240 - accuracy: 0.9923\n",
      "Epoch 12/15\n",
      "1875/1875 [==============================] - 2s 985us/step - loss: 0.0218 - accuracy: 0.9929\n",
      "Epoch 13/15\n",
      "1875/1875 [==============================] - 2s 982us/step - loss: 0.0224 - accuracy: 0.9933\n",
      "Epoch 14/15\n",
      "1875/1875 [==============================] - 2s 980us/step - loss: 0.0184 - accuracy: 0.9938\n",
      "Epoch 15/15\n",
      "1875/1875 [==============================] - 2s 978us/step - loss: 0.0181 - accuracy: 0.9946\n"
     ]
    },
    {
     "data": {
      "text/plain": [
       "<keras.src.callbacks.History at 0x2efa0f820>"
      ]
     },
     "execution_count": 63,
     "metadata": {},
     "output_type": "execute_result"
    }
   ],
   "source": [
    "base_model = tf.keras.models.Sequential()\n",
    "base_model.add(tf.keras.layers.Flatten(input_shape=(28, 28)))\n",
    "\n",
    "for x in range(layer_amt): \n",
    "    base_model.add(tf.keras.layers.Dense(128, activation='relu'))\n",
    "\n",
    "base_model.add(tf.keras.layers.Dropout(0.2))\n",
    "base_model.add(tf.keras.layers.Dense(10))\n",
    "\n",
    "\n",
    "base_model.compile(optimizer='adam',\n",
    "              loss=tf.keras.losses.SparseCategoricalCrossentropy(from_logits=True),\n",
    "              metrics=['accuracy'])\n",
    "base_model.fit(x_train, y_train, epochs=15)"
   ]
  },
  {
   "cell_type": "code",
   "execution_count": 85,
   "id": "e8f2bf15",
   "metadata": {},
   "outputs": [
    {
     "name": "stdout",
     "output_type": "stream",
     "text": [
      "313/313 - 0s - loss: 0.1241 - accuracy: 0.9781 - 149ms/epoch - 476us/step\n"
     ]
    },
    {
     "data": {
      "text/plain": [
       "[0.12409665435552597, 0.9781000018119812]"
      ]
     },
     "execution_count": 85,
     "metadata": {},
     "output_type": "execute_result"
    }
   ],
   "source": [
    "base_model.evaluate(x_test,  y_test, verbose=2)"
   ]
  },
  {
   "cell_type": "code",
   "execution_count": 69,
   "id": "98e0d86a",
   "metadata": {},
   "outputs": [],
   "source": [
    "import tensorflow.keras.backend as K\n",
    "from keras import activations\n",
    "\n",
    "@keras.saving.register_keras_serializable()\n",
    "class PCAProj(tf.keras.layers.Layer):\n",
    "    def __init__(self, weights, k, activation, **kwargs):\n",
    "        super().__init__(**kwargs)\n",
    "        self.trainable=False\n",
    "        self.activation = activations.get(activation)\n",
    "        self.k = k\n",
    "        \n",
    "        # if W is m x n, A is m x k and B is k x n\n",
    "        w, b = weights\n",
    "        self.b = K.constant(b)\n",
    "        if w is not None: \n",
    "            u, s, vT = np.linalg.svd(w, full_matrices=False)\n",
    "            self.A = u[:, :k] @ np.diag(s[:k])\n",
    "            self.B = vT[:k]\n",
    "        \n",
    "    def call(self, inputs):  \n",
    "        return self.activation(tf.matmul(inputs, tf.matmul(self.A, self.B)) + self.b)\n",
    "\n",
    "    def get_config(self):\n",
    "        base_config = super().get_config()\n",
    "        config = {\n",
    "            \"A\": keras.saving.serialize_keras_object(self.A),\n",
    "            \"B\": keras.saving.serialize_keras_object(self.B),\n",
    "            \"bias\": keras.saving.serialize_keras_object(self.b),\n",
    "            \"k\": self.k,\n",
    "            \"activation\": self.activation\n",
    "        }\n",
    "        return {**base_config, **config}\n",
    "    \n",
    "    @classmethod\n",
    "    def from_config(cls, config):\n",
    "        A = keras.saving.deserialize_keras_object(config.pop(\"A\"))\n",
    "        B = keras.saving.deserialize_keras_object(config.pop(\"B\"))\n",
    "        bias = keras.saving.deserialize_keras_object(config.pop(\"bias\"))\n",
    "        layer = cls([None, bias], **config)\n",
    "        layer.A = A\n",
    "        layer.B = B\n",
    "        return layer"
   ]
  },
  {
   "cell_type": "code",
   "execution_count": 88,
   "id": "1691b87e",
   "metadata": {},
   "outputs": [],
   "source": [
    "optimized_model = tf.keras.models.Sequential()\n",
    "optimized_model.add(tf.keras.layers.Flatten(input_shape=(28, 28)))\n",
    "\n",
    "weights = base_model.get_weights()\n",
    "\n",
    "for x in range(layer_amt): \n",
    "    optimized_model.add(PCAProj(weights[2*x:2*(x+1)], k = 40, activation='relu'))\n",
    "optimized_model.add(tf.keras.layers.Dropout(0.2))\n",
    "optimized_model.add(PCAProj(weights[2*layer_amt:2*(layer_amt+1)], k = 10, activation='relu'))\n",
    "\n",
    "optimized_model.compile(optimizer='adam',\n",
    "              loss=tf.keras.losses.SparseCategoricalCrossentropy(from_logits=True),\n",
    "              metrics=['accuracy'])"
   ]
  },
  {
   "cell_type": "code",
   "execution_count": 90,
   "id": "154961b0",
   "metadata": {},
   "outputs": [
    {
     "name": "stdout",
     "output_type": "stream",
     "text": [
      "313/313 - 0s - loss: 0.1370 - accuracy: 0.9710 - 143ms/epoch - 458us/step\n"
     ]
    },
    {
     "data": {
      "text/plain": [
       "[0.13704745471477509, 0.9710000157356262]"
      ]
     },
     "execution_count": 90,
     "metadata": {},
     "output_type": "execute_result"
    }
   ],
   "source": [
    "optimized_model.evaluate(x_test,  y_test, verbose=2)"
   ]
  },
  {
   "cell_type": "code",
   "execution_count": 91,
   "id": "b34c2d9f",
   "metadata": {},
   "outputs": [],
   "source": [
    "base_model.save(\"./base_model.h5\")\n",
    "optimized_model.save(\"./optimized_model.h5\")"
   ]
  },
  {
   "cell_type": "code",
   "execution_count": 82,
   "id": "6eda8600",
   "metadata": {},
   "outputs": [
    {
     "ename": "OSError",
     "evalue": "No file or directory found at ./optimized_model.keras",
     "output_type": "error",
     "traceback": [
      "\u001b[0;31m---------------------------------------------------------------------------\u001b[0m",
      "\u001b[0;31mOSError\u001b[0m                                   Traceback (most recent call last)",
      "Cell \u001b[0;32mIn[82], line 1\u001b[0m\n\u001b[0;32m----> 1\u001b[0m loaded_optimized_model \u001b[38;5;241m=\u001b[39m \u001b[43mkeras\u001b[49m\u001b[38;5;241;43m.\u001b[39;49m\u001b[43mmodels\u001b[49m\u001b[38;5;241;43m.\u001b[39;49m\u001b[43mload_model\u001b[49m\u001b[43m(\u001b[49m\u001b[38;5;124;43m\"\u001b[39;49m\u001b[38;5;124;43m./optimized_model.keras\u001b[39;49m\u001b[38;5;124;43m\"\u001b[39;49m\u001b[43m)\u001b[49m\n",
      "File \u001b[0;32m~/Developer/miniconda3/lib/python3.10/site-packages/keras/src/saving/saving_api.py:262\u001b[0m, in \u001b[0;36mload_model\u001b[0;34m(filepath, custom_objects, compile, safe_mode, **kwargs)\u001b[0m\n\u001b[1;32m    254\u001b[0m     \u001b[38;5;28;01mreturn\u001b[39;00m saving_lib\u001b[38;5;241m.\u001b[39mload_model(\n\u001b[1;32m    255\u001b[0m         filepath,\n\u001b[1;32m    256\u001b[0m         custom_objects\u001b[38;5;241m=\u001b[39mcustom_objects,\n\u001b[1;32m    257\u001b[0m         \u001b[38;5;28mcompile\u001b[39m\u001b[38;5;241m=\u001b[39m\u001b[38;5;28mcompile\u001b[39m,\n\u001b[1;32m    258\u001b[0m         safe_mode\u001b[38;5;241m=\u001b[39msafe_mode,\n\u001b[1;32m    259\u001b[0m     )\n\u001b[1;32m    261\u001b[0m \u001b[38;5;66;03m# Legacy case.\u001b[39;00m\n\u001b[0;32m--> 262\u001b[0m \u001b[38;5;28;01mreturn\u001b[39;00m \u001b[43mlegacy_sm_saving_lib\u001b[49m\u001b[38;5;241;43m.\u001b[39;49m\u001b[43mload_model\u001b[49m\u001b[43m(\u001b[49m\n\u001b[1;32m    263\u001b[0m \u001b[43m    \u001b[49m\u001b[43mfilepath\u001b[49m\u001b[43m,\u001b[49m\u001b[43m \u001b[49m\u001b[43mcustom_objects\u001b[49m\u001b[38;5;241;43m=\u001b[39;49m\u001b[43mcustom_objects\u001b[49m\u001b[43m,\u001b[49m\u001b[43m \u001b[49m\u001b[38;5;28;43mcompile\u001b[39;49m\u001b[38;5;241;43m=\u001b[39;49m\u001b[38;5;28;43mcompile\u001b[39;49m\u001b[43m,\u001b[49m\u001b[43m \u001b[49m\u001b[38;5;241;43m*\u001b[39;49m\u001b[38;5;241;43m*\u001b[39;49m\u001b[43mkwargs\u001b[49m\n\u001b[1;32m    264\u001b[0m \u001b[43m\u001b[49m\u001b[43m)\u001b[49m\n",
      "File \u001b[0;32m~/Developer/miniconda3/lib/python3.10/site-packages/keras/src/utils/traceback_utils.py:70\u001b[0m, in \u001b[0;36mfilter_traceback.<locals>.error_handler\u001b[0;34m(*args, **kwargs)\u001b[0m\n\u001b[1;32m     67\u001b[0m     filtered_tb \u001b[38;5;241m=\u001b[39m _process_traceback_frames(e\u001b[38;5;241m.\u001b[39m__traceback__)\n\u001b[1;32m     68\u001b[0m     \u001b[38;5;66;03m# To get the full stack trace, call:\u001b[39;00m\n\u001b[1;32m     69\u001b[0m     \u001b[38;5;66;03m# `tf.debugging.disable_traceback_filtering()`\u001b[39;00m\n\u001b[0;32m---> 70\u001b[0m     \u001b[38;5;28;01mraise\u001b[39;00m e\u001b[38;5;241m.\u001b[39mwith_traceback(filtered_tb) \u001b[38;5;28;01mfrom\u001b[39;00m \u001b[38;5;28;01mNone\u001b[39;00m\n\u001b[1;32m     71\u001b[0m \u001b[38;5;28;01mfinally\u001b[39;00m:\n\u001b[1;32m     72\u001b[0m     \u001b[38;5;28;01mdel\u001b[39;00m filtered_tb\n",
      "File \u001b[0;32m~/Developer/miniconda3/lib/python3.10/site-packages/keras/src/saving/legacy/save.py:234\u001b[0m, in \u001b[0;36mload_model\u001b[0;34m(filepath, custom_objects, compile, options)\u001b[0m\n\u001b[1;32m    232\u001b[0m \u001b[38;5;28;01mif\u001b[39;00m \u001b[38;5;28misinstance\u001b[39m(filepath_str, \u001b[38;5;28mstr\u001b[39m):\n\u001b[1;32m    233\u001b[0m     \u001b[38;5;28;01mif\u001b[39;00m \u001b[38;5;129;01mnot\u001b[39;00m tf\u001b[38;5;241m.\u001b[39mio\u001b[38;5;241m.\u001b[39mgfile\u001b[38;5;241m.\u001b[39mexists(filepath_str):\n\u001b[0;32m--> 234\u001b[0m         \u001b[38;5;28;01mraise\u001b[39;00m \u001b[38;5;167;01mIOError\u001b[39;00m(\n\u001b[1;32m    235\u001b[0m             \u001b[38;5;124mf\u001b[39m\u001b[38;5;124m\"\u001b[39m\u001b[38;5;124mNo file or directory found at \u001b[39m\u001b[38;5;132;01m{\u001b[39;00mfilepath_str\u001b[38;5;132;01m}\u001b[39;00m\u001b[38;5;124m\"\u001b[39m\n\u001b[1;32m    236\u001b[0m         )\n\u001b[1;32m    238\u001b[0m     \u001b[38;5;28;01mif\u001b[39;00m tf\u001b[38;5;241m.\u001b[39mio\u001b[38;5;241m.\u001b[39mgfile\u001b[38;5;241m.\u001b[39misdir(filepath_str):\n\u001b[1;32m    239\u001b[0m         \u001b[38;5;28;01mreturn\u001b[39;00m saved_model_load\u001b[38;5;241m.\u001b[39mload(\n\u001b[1;32m    240\u001b[0m             filepath_str, \u001b[38;5;28mcompile\u001b[39m, options\n\u001b[1;32m    241\u001b[0m         )\n",
      "\u001b[0;31mOSError\u001b[0m: No file or directory found at ./optimized_model.keras"
     ]
    }
   ],
   "source": [
    "loaded_optimized_model = keras.models.load_model(\"./optimized_model.keras\")"
   ]
  },
  {
   "cell_type": "code",
   "execution_count": 12,
   "id": "37fae7cb",
   "metadata": {},
   "outputs": [
    {
     "name": "stdout",
     "output_type": "stream",
     "text": [
      "\u001b[38;5;240m 1:14  up 7 days,  3:35, 2 users, load averages: 1.73 1.97 2.27 \n",
      "\u001b[35m                          narfee\u001b[0m@\u001b[35mNicks-MacBook\n",
      "\u001b[35m        |\\__/,|   (`\\     \u001b[36mos\u001b[0m        macOS   13.3.1  \n",
      "\u001b[35m      _.|\u001b[34mo o\u001b[35m  |_   ) )    \u001b[36mkernel\u001b[0m    Darwin 22.4.0\n",
      "\u001b[35m    \u001b[34m-\u001b[35m(((\u001b[34m---\u001b[35m(((\u001b[34m--------    \u001b[36mshell\u001b[0m     fish\n",
      "\n",
      "\u001b[35m                                         \u001b[7m\u001b[31m \u001b[31m \u001b[32m \u001b[32m \u001b[33m \u001b[33m \u001b[34m \u001b[34m \u001b[35m \u001b[35m \u001b[36m \u001b[36m \u001b[m\n",
      "\u001b[31mERROR: Could not find a version that satisfies the requirement tensorflow==2.11.0 (from versions: 2.13.0rc0, 2.13.0rc1, 2.13.0rc2, 2.13.0, 2.13.1, 2.14.0rc0, 2.14.0rc1, 2.14.0, 2.14.1, 2.15.0rc0, 2.15.0rc1, 2.15.0)\u001b[0m\u001b[31m\n",
      "\u001b[0m\u001b[31mERROR: No matching distribution found for tensorflow==2.11.0\u001b[0m\u001b[31m\n",
      "\u001b[0m\u001b[33mWARNING: There was an error checking the latest version of pip.\u001b[0m\u001b[33m\n",
      "\u001b[0m"
     ]
    }
   ],
   "source": [
    "!pip3 install tensorflow==2.11.0"
   ]
  },
  {
   "cell_type": "code",
   "execution_count": 58,
   "id": "cf69c6d2",
   "metadata": {},
   "outputs": [
    {
     "name": "stdout",
     "output_type": "stream",
     "text": [
      "Epoch 1/15\n",
      "1875/1875 [==============================] - 1s 685us/step - loss: 0.3134 - accuracy: 0.9094\n",
      "Epoch 2/15\n",
      "1875/1875 [==============================] - 1s 674us/step - loss: 0.1558 - accuracy: 0.9537\n",
      "Epoch 3/15\n",
      "1875/1875 [==============================] - 1s 682us/step - loss: 0.1192 - accuracy: 0.9638\n",
      "Epoch 4/15\n",
      "1875/1875 [==============================] - 1s 675us/step - loss: 0.1003 - accuracy: 0.9699\n",
      "Epoch 5/15\n",
      "1875/1875 [==============================] - 1s 667us/step - loss: 0.0847 - accuracy: 0.9739\n",
      "Epoch 6/15\n",
      "1875/1875 [==============================] - 1s 689us/step - loss: 0.0749 - accuracy: 0.9757\n",
      "Epoch 7/15\n",
      "1875/1875 [==============================] - 1s 661us/step - loss: 0.0688 - accuracy: 0.9774\n",
      "Epoch 8/15\n",
      "1875/1875 [==============================] - 1s 682us/step - loss: 0.0645 - accuracy: 0.9792\n",
      "Epoch 9/15\n",
      "1875/1875 [==============================] - 1s 675us/step - loss: 0.0584 - accuracy: 0.9809\n",
      "Epoch 10/15\n",
      "1875/1875 [==============================] - 1s 680us/step - loss: 0.0539 - accuracy: 0.9821\n",
      "Epoch 11/15\n",
      "1875/1875 [==============================] - 1s 688us/step - loss: 0.0511 - accuracy: 0.9832\n",
      "Epoch 12/15\n",
      "1875/1875 [==============================] - 1s 694us/step - loss: 0.0485 - accuracy: 0.9837\n",
      "Epoch 13/15\n",
      "1875/1875 [==============================] - 1s 680us/step - loss: 0.0463 - accuracy: 0.9841\n",
      "Epoch 14/15\n",
      "1875/1875 [==============================] - 1s 668us/step - loss: 0.0441 - accuracy: 0.9855\n",
      "Epoch 15/15\n",
      "1875/1875 [==============================] - 1s 685us/step - loss: 0.0407 - accuracy: 0.9863\n"
     ]
    },
    {
     "data": {
      "text/plain": [
       "<keras.src.callbacks.History at 0x2def53790>"
      ]
     },
     "execution_count": 58,
     "metadata": {},
     "output_type": "execute_result"
    }
   ],
   "source": [
    "low_param_model = tf.keras.models.Sequential()\n",
    "low_param_model.add(tf.keras.layers.Flatten(input_shape=(28, 28)))\n",
    "low_param_model.add(tf.keras.layers.Dense(100, activation='relu'))\n",
    "low_param_model.add(tf.keras.layers.Dropout(0.2))\n",
    "low_param_model.add(tf.keras.layers.Dense(10))\n",
    "low_param_model.compile(optimizer='adam',\n",
    "              loss=tf.keras.losses.SparseCategoricalCrossentropy(from_logits=True),\n",
    "              metrics=['accuracy'])\n",
    "low_param_model.fit(x_train, y_train, epochs=15)"
   ]
  },
  {
   "cell_type": "code",
   "execution_count": 59,
   "id": "93df76a9",
   "metadata": {},
   "outputs": [],
   "source": [
    "low_param_model.save(\"./low_param_model.h5\")"
   ]
  },
  {
   "cell_type": "code",
   "execution_count": 99,
   "id": "eb7fe577",
   "metadata": {},
   "outputs": [
    {
     "data": {
      "text/plain": [
       "0.625"
      ]
     },
     "execution_count": 99,
     "metadata": {},
     "output_type": "execute_result"
    }
   ],
   "source": [
    "(np.prod(optimized_model.layers[2].A.shape) + np.prod(optimized_model.layers[2].A.shape))/np.prod(base_model.layers[2].get_weights()[0].shape)"
   ]
  },
  {
   "cell_type": "code",
   "execution_count": 104,
   "id": "91856e58",
   "metadata": {},
   "outputs": [
    {
     "data": {
      "text/plain": [
       "((784, 40), (40, 128), (128, 40), (40, 128))"
      ]
     },
     "execution_count": 104,
     "metadata": {},
     "output_type": "execute_result"
    }
   ],
   "source": [
    "optimized_model.layers[1].A.shape, optimized_model.layers[1].B.shape, optimized_model.layers[2].A.shape, optimized_model.layers[2].B.shape"
   ]
  },
  {
   "cell_type": "code",
   "execution_count": 101,
   "id": "d6c64a65",
   "metadata": {},
   "outputs": [
    {
     "data": {
      "text/plain": [
       "[<keras.src.layers.reshaping.flatten.Flatten at 0x2a0cf8ee0>,\n",
       " <__main__.PCAProj at 0x287bb9c00>,\n",
       " <__main__.PCAProj at 0x287747a30>,\n",
       " <__main__.PCAProj at 0x2875838b0>,\n",
       " <keras.src.layers.regularization.dropout.Dropout at 0x287745900>,\n",
       " <__main__.PCAProj at 0x287bba380>]"
      ]
     },
     "execution_count": 101,
     "metadata": {},
     "output_type": "execute_result"
    }
   ],
   "source": [
    "optimized_model.layers"
   ]
  },
  {
   "cell_type": "code",
   "execution_count": null,
   "id": "684b390d",
   "metadata": {},
   "outputs": [],
   "source": []
  }
 ],
 "metadata": {
  "kernelspec": {
   "display_name": "Python 3 (ipykernel)",
   "language": "python",
   "name": "python3"
  },
  "language_info": {
   "codemirror_mode": {
    "name": "ipython",
    "version": 3
   },
   "file_extension": ".py",
   "mimetype": "text/x-python",
   "name": "python",
   "nbconvert_exporter": "python",
   "pygments_lexer": "ipython3",
   "version": "3.10.8"
  }
 },
 "nbformat": 4,
 "nbformat_minor": 5
}
